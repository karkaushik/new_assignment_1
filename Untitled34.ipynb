{
  "nbformat": 4,
  "nbformat_minor": 0,
  "metadata": {
    "colab": {
      "provenance": [],
      "collapsed_sections": []
    },
    "kernelspec": {
      "name": "python3",
      "display_name": "Python 3"
    },
    "language_info": {
      "name": "python"
    }
  },
  "cells": [
    {
      "cell_type": "markdown",
      "source": [
        "# **Importing Library**"
      ],
      "metadata": {
        "id": "cCznOUMFj-Gn"
      }
    },
    {
      "cell_type": "code",
      "source": [
        "import numpy as np\n",
        "import pandas as pd\n",
        "import matplotlib.pyplot as plt #for visualization\n",
        "import seaborn as sns #for visualization\n",
        "from sklearn.model_selection import train_test_split\n",
        "from sklearn.preprocessing import StandardScaler\n",
        "from sklearn import metrics\n",
        "from sklearn.metrics import r2_score"
      ],
      "metadata": {
        "id": "0b4mqC0_kBmz"
      },
      "execution_count": 1,
      "outputs": []
    },
    {
      "cell_type": "markdown",
      "source": [
        "# **Loading dataset**"
      ],
      "metadata": {
        "id": "skIShkuekEyW"
      }
    },
    {
      "cell_type": "code",
      "source": [
        "dataset = pd.read_csv('CarPrice.csv')"
      ],
      "metadata": {
        "id": "ZXS1pmb9kIyi"
      },
      "execution_count": 2,
      "outputs": []
    },
    {
      "cell_type": "markdown",
      "source": [
        "# **Exploratory Data Analysis**"
      ],
      "metadata": {
        "id": "UsIc47_GkU_K"
      }
    },
    {
      "cell_type": "markdown",
      "source": [
        "# **Data Preprocessing**"
      ],
      "metadata": {
        "id": "dkBWc8ejkcsS"
      }
    },
    {
      "cell_type": "markdown",
      "source": [
        "### **Preparing the data to implement model**"
      ],
      "metadata": {
        "id": "5gxuYs9-kfVk"
      }
    },
    {
      "cell_type": "markdown",
      "source": [
        "Firstly dropping some feature variables to prevent overfittting of model"
      ],
      "metadata": {
        "id": "5lKaWY3dkq_h"
      }
    },
    {
      "cell_type": "code",
      "source": [
        "dataset.drop([\"car_ID\",\"symboling\",\"CarName\"], axis=1, inplace=True)"
      ],
      "metadata": {
        "id": "hVgkTo-TkpY-"
      },
      "execution_count": 3,
      "outputs": []
    },
    {
      "cell_type": "code",
      "source": [
        "dataset.head()"
      ],
      "metadata": {
        "colab": {
          "base_uri": "https://localhost:8080/",
          "height": 299
        },
        "id": "W1yJhhs1lNlT",
        "outputId": "d21ac602-a35f-4f82-c57f-931f3504c5c2"
      },
      "execution_count": 4,
      "outputs": [
        {
          "output_type": "execute_result",
          "data": {
            "text/plain": [
              "  fueltype aspiration doornumber      carbody drivewheel enginelocation  \\\n",
              "0      gas        std        two  convertible        rwd          front   \n",
              "1      gas        std        two  convertible        rwd          front   \n",
              "2      gas        std        two    hatchback        rwd          front   \n",
              "3      gas        std       four        sedan        fwd          front   \n",
              "4      gas        std       four        sedan        4wd          front   \n",
              "\n",
              "   wheelbase  carlength  carwidth  carheight  ...  enginesize fuelsystem  \\\n",
              "0       88.6      168.8      64.1       48.8  ...         130       mpfi   \n",
              "1       88.6      168.8      64.1       48.8  ...         130       mpfi   \n",
              "2       94.5      171.2      65.5       52.4  ...         152       mpfi   \n",
              "3       99.8      176.6      66.2       54.3  ...         109       mpfi   \n",
              "4       99.4      176.6      66.4       54.3  ...         136       mpfi   \n",
              "\n",
              "  boreratio  stroke compressionratio  horsepower  peakrpm  citympg  \\\n",
              "0      3.47    2.68              9.0         111     5000       21   \n",
              "1      3.47    2.68              9.0         111     5000       21   \n",
              "2      2.68    3.47              9.0         154     5000       19   \n",
              "3      3.19    3.40             10.0         102     5500       24   \n",
              "4      3.19    3.40              8.0         115     5500       18   \n",
              "\n",
              "   highwaympg    price  \n",
              "0          27  13495.0  \n",
              "1          27  16500.0  \n",
              "2          26  16500.0  \n",
              "3          30  13950.0  \n",
              "4          22  17450.0  \n",
              "\n",
              "[5 rows x 23 columns]"
            ],
            "text/html": [
              "\n",
              "  <div id=\"df-121fafa1-12f5-4ef8-8fd9-9862016468f2\">\n",
              "    <div class=\"colab-df-container\">\n",
              "      <div>\n",
              "<style scoped>\n",
              "    .dataframe tbody tr th:only-of-type {\n",
              "        vertical-align: middle;\n",
              "    }\n",
              "\n",
              "    .dataframe tbody tr th {\n",
              "        vertical-align: top;\n",
              "    }\n",
              "\n",
              "    .dataframe thead th {\n",
              "        text-align: right;\n",
              "    }\n",
              "</style>\n",
              "<table border=\"1\" class=\"dataframe\">\n",
              "  <thead>\n",
              "    <tr style=\"text-align: right;\">\n",
              "      <th></th>\n",
              "      <th>fueltype</th>\n",
              "      <th>aspiration</th>\n",
              "      <th>doornumber</th>\n",
              "      <th>carbody</th>\n",
              "      <th>drivewheel</th>\n",
              "      <th>enginelocation</th>\n",
              "      <th>wheelbase</th>\n",
              "      <th>carlength</th>\n",
              "      <th>carwidth</th>\n",
              "      <th>carheight</th>\n",
              "      <th>...</th>\n",
              "      <th>enginesize</th>\n",
              "      <th>fuelsystem</th>\n",
              "      <th>boreratio</th>\n",
              "      <th>stroke</th>\n",
              "      <th>compressionratio</th>\n",
              "      <th>horsepower</th>\n",
              "      <th>peakrpm</th>\n",
              "      <th>citympg</th>\n",
              "      <th>highwaympg</th>\n",
              "      <th>price</th>\n",
              "    </tr>\n",
              "  </thead>\n",
              "  <tbody>\n",
              "    <tr>\n",
              "      <th>0</th>\n",
              "      <td>gas</td>\n",
              "      <td>std</td>\n",
              "      <td>two</td>\n",
              "      <td>convertible</td>\n",
              "      <td>rwd</td>\n",
              "      <td>front</td>\n",
              "      <td>88.6</td>\n",
              "      <td>168.8</td>\n",
              "      <td>64.1</td>\n",
              "      <td>48.8</td>\n",
              "      <td>...</td>\n",
              "      <td>130</td>\n",
              "      <td>mpfi</td>\n",
              "      <td>3.47</td>\n",
              "      <td>2.68</td>\n",
              "      <td>9.0</td>\n",
              "      <td>111</td>\n",
              "      <td>5000</td>\n",
              "      <td>21</td>\n",
              "      <td>27</td>\n",
              "      <td>13495.0</td>\n",
              "    </tr>\n",
              "    <tr>\n",
              "      <th>1</th>\n",
              "      <td>gas</td>\n",
              "      <td>std</td>\n",
              "      <td>two</td>\n",
              "      <td>convertible</td>\n",
              "      <td>rwd</td>\n",
              "      <td>front</td>\n",
              "      <td>88.6</td>\n",
              "      <td>168.8</td>\n",
              "      <td>64.1</td>\n",
              "      <td>48.8</td>\n",
              "      <td>...</td>\n",
              "      <td>130</td>\n",
              "      <td>mpfi</td>\n",
              "      <td>3.47</td>\n",
              "      <td>2.68</td>\n",
              "      <td>9.0</td>\n",
              "      <td>111</td>\n",
              "      <td>5000</td>\n",
              "      <td>21</td>\n",
              "      <td>27</td>\n",
              "      <td>16500.0</td>\n",
              "    </tr>\n",
              "    <tr>\n",
              "      <th>2</th>\n",
              "      <td>gas</td>\n",
              "      <td>std</td>\n",
              "      <td>two</td>\n",
              "      <td>hatchback</td>\n",
              "      <td>rwd</td>\n",
              "      <td>front</td>\n",
              "      <td>94.5</td>\n",
              "      <td>171.2</td>\n",
              "      <td>65.5</td>\n",
              "      <td>52.4</td>\n",
              "      <td>...</td>\n",
              "      <td>152</td>\n",
              "      <td>mpfi</td>\n",
              "      <td>2.68</td>\n",
              "      <td>3.47</td>\n",
              "      <td>9.0</td>\n",
              "      <td>154</td>\n",
              "      <td>5000</td>\n",
              "      <td>19</td>\n",
              "      <td>26</td>\n",
              "      <td>16500.0</td>\n",
              "    </tr>\n",
              "    <tr>\n",
              "      <th>3</th>\n",
              "      <td>gas</td>\n",
              "      <td>std</td>\n",
              "      <td>four</td>\n",
              "      <td>sedan</td>\n",
              "      <td>fwd</td>\n",
              "      <td>front</td>\n",
              "      <td>99.8</td>\n",
              "      <td>176.6</td>\n",
              "      <td>66.2</td>\n",
              "      <td>54.3</td>\n",
              "      <td>...</td>\n",
              "      <td>109</td>\n",
              "      <td>mpfi</td>\n",
              "      <td>3.19</td>\n",
              "      <td>3.40</td>\n",
              "      <td>10.0</td>\n",
              "      <td>102</td>\n",
              "      <td>5500</td>\n",
              "      <td>24</td>\n",
              "      <td>30</td>\n",
              "      <td>13950.0</td>\n",
              "    </tr>\n",
              "    <tr>\n",
              "      <th>4</th>\n",
              "      <td>gas</td>\n",
              "      <td>std</td>\n",
              "      <td>four</td>\n",
              "      <td>sedan</td>\n",
              "      <td>4wd</td>\n",
              "      <td>front</td>\n",
              "      <td>99.4</td>\n",
              "      <td>176.6</td>\n",
              "      <td>66.4</td>\n",
              "      <td>54.3</td>\n",
              "      <td>...</td>\n",
              "      <td>136</td>\n",
              "      <td>mpfi</td>\n",
              "      <td>3.19</td>\n",
              "      <td>3.40</td>\n",
              "      <td>8.0</td>\n",
              "      <td>115</td>\n",
              "      <td>5500</td>\n",
              "      <td>18</td>\n",
              "      <td>22</td>\n",
              "      <td>17450.0</td>\n",
              "    </tr>\n",
              "  </tbody>\n",
              "</table>\n",
              "<p>5 rows × 23 columns</p>\n",
              "</div>\n",
              "      <button class=\"colab-df-convert\" onclick=\"convertToInteractive('df-121fafa1-12f5-4ef8-8fd9-9862016468f2')\"\n",
              "              title=\"Convert this dataframe to an interactive table.\"\n",
              "              style=\"display:none;\">\n",
              "        \n",
              "  <svg xmlns=\"http://www.w3.org/2000/svg\" height=\"24px\"viewBox=\"0 0 24 24\"\n",
              "       width=\"24px\">\n",
              "    <path d=\"M0 0h24v24H0V0z\" fill=\"none\"/>\n",
              "    <path d=\"M18.56 5.44l.94 2.06.94-2.06 2.06-.94-2.06-.94-.94-2.06-.94 2.06-2.06.94zm-11 1L8.5 8.5l.94-2.06 2.06-.94-2.06-.94L8.5 2.5l-.94 2.06-2.06.94zm10 10l.94 2.06.94-2.06 2.06-.94-2.06-.94-.94-2.06-.94 2.06-2.06.94z\"/><path d=\"M17.41 7.96l-1.37-1.37c-.4-.4-.92-.59-1.43-.59-.52 0-1.04.2-1.43.59L10.3 9.45l-7.72 7.72c-.78.78-.78 2.05 0 2.83L4 21.41c.39.39.9.59 1.41.59.51 0 1.02-.2 1.41-.59l7.78-7.78 2.81-2.81c.8-.78.8-2.07 0-2.86zM5.41 20L4 18.59l7.72-7.72 1.47 1.35L5.41 20z\"/>\n",
              "  </svg>\n",
              "      </button>\n",
              "      \n",
              "  <style>\n",
              "    .colab-df-container {\n",
              "      display:flex;\n",
              "      flex-wrap:wrap;\n",
              "      gap: 12px;\n",
              "    }\n",
              "\n",
              "    .colab-df-convert {\n",
              "      background-color: #E8F0FE;\n",
              "      border: none;\n",
              "      border-radius: 50%;\n",
              "      cursor: pointer;\n",
              "      display: none;\n",
              "      fill: #1967D2;\n",
              "      height: 32px;\n",
              "      padding: 0 0 0 0;\n",
              "      width: 32px;\n",
              "    }\n",
              "\n",
              "    .colab-df-convert:hover {\n",
              "      background-color: #E2EBFA;\n",
              "      box-shadow: 0px 1px 2px rgba(60, 64, 67, 0.3), 0px 1px 3px 1px rgba(60, 64, 67, 0.15);\n",
              "      fill: #174EA6;\n",
              "    }\n",
              "\n",
              "    [theme=dark] .colab-df-convert {\n",
              "      background-color: #3B4455;\n",
              "      fill: #D2E3FC;\n",
              "    }\n",
              "\n",
              "    [theme=dark] .colab-df-convert:hover {\n",
              "      background-color: #434B5C;\n",
              "      box-shadow: 0px 1px 3px 1px rgba(0, 0, 0, 0.15);\n",
              "      filter: drop-shadow(0px 1px 2px rgba(0, 0, 0, 0.3));\n",
              "      fill: #FFFFFF;\n",
              "    }\n",
              "  </style>\n",
              "\n",
              "      <script>\n",
              "        const buttonEl =\n",
              "          document.querySelector('#df-121fafa1-12f5-4ef8-8fd9-9862016468f2 button.colab-df-convert');\n",
              "        buttonEl.style.display =\n",
              "          google.colab.kernel.accessAllowed ? 'block' : 'none';\n",
              "\n",
              "        async function convertToInteractive(key) {\n",
              "          const element = document.querySelector('#df-121fafa1-12f5-4ef8-8fd9-9862016468f2');\n",
              "          const dataTable =\n",
              "            await google.colab.kernel.invokeFunction('convertToInteractive',\n",
              "                                                     [key], {});\n",
              "          if (!dataTable) return;\n",
              "\n",
              "          const docLinkHtml = 'Like what you see? Visit the ' +\n",
              "            '<a target=\"_blank\" href=https://colab.research.google.com/notebooks/data_table.ipynb>data table notebook</a>'\n",
              "            + ' to learn more about interactive tables.';\n",
              "          element.innerHTML = '';\n",
              "          dataTable['output_type'] = 'display_data';\n",
              "          await google.colab.output.renderOutput(dataTable, element);\n",
              "          const docLink = document.createElement('div');\n",
              "          docLink.innerHTML = docLinkHtml;\n",
              "          element.appendChild(docLink);\n",
              "        }\n",
              "      </script>\n",
              "    </div>\n",
              "  </div>\n",
              "  "
            ]
          },
          "metadata": {},
          "execution_count": 4
        }
      ]
    },
    {
      "cell_type": "markdown",
      "source": [
        "### **Dummification**"
      ],
      "metadata": {
        "id": "cVs3LU81l13q"
      }
    },
    {
      "cell_type": "markdown",
      "source": [
        "A One hot encoding is a representation of categorical variable as binary vectors.It allows the representation of categorical data to be more expresive. This first requires that the categorical values be mapped to integer values, that is label encoding. Then, each integer value is represented as a binary vector that is all zero values except the index of the integer, which is marked with a 1.\n",
        "\n",
        "The Dummy variable trap is a scenario in which the independent variable are multicollinear, a scenario in which two or more variables are highly correlated in simple term one variable can be predicted from the others.\n",
        "\n",
        "By using pandas get_dummies function we can do all above three step in line of code. We will this fuction to get dummy variable for sex, children,smoker,region features. By setting drop_first =True function will remove dummy variable trap by droping one variable and original variable.\n",
        "\n"
      ],
      "metadata": {
        "id": "5b6PRQ-ilbUs"
      }
    },
    {
      "cell_type": "code",
      "source": [
        "dataset = pd.get_dummies(dataset, columns= [\"drivewheel\"], drop_first=True)"
      ],
      "metadata": {
        "id": "_COl4BmcmE8d"
      },
      "execution_count": 5,
      "outputs": []
    },
    {
      "cell_type": "code",
      "source": [
        "dataset = pd.get_dummies(dataset, columns= [\"doornumber\"],drop_first=True)"
      ],
      "metadata": {
        "id": "b3ogKNCcm158"
      },
      "execution_count": 6,
      "outputs": []
    },
    {
      "cell_type": "code",
      "source": [
        "dataset = pd.get_dummies(dataset, columns= [\"cylindernumber\"],drop_first=True)"
      ],
      "metadata": {
        "id": "jgkwq3pYnAA6"
      },
      "execution_count": 7,
      "outputs": []
    },
    {
      "cell_type": "code",
      "source": [
        "dataset = pd.get_dummies(dataset, columns= [\"fueltype\"],drop_first=True)"
      ],
      "metadata": {
        "id": "aS8HToVjnIs1"
      },
      "execution_count": 8,
      "outputs": []
    },
    {
      "cell_type": "code",
      "source": [
        "dataset = pd.get_dummies(dataset, columns= [\"aspiration\"],drop_first=True)"
      ],
      "metadata": {
        "id": "4X45xGhfH0cC"
      },
      "execution_count": 9,
      "outputs": []
    },
    {
      "cell_type": "code",
      "source": [
        "dataset = pd.get_dummies(dataset, columns= [\"carbody\"],drop_first=True)"
      ],
      "metadata": {
        "id": "AbZyojTkH61c"
      },
      "execution_count": 10,
      "outputs": []
    },
    {
      "cell_type": "code",
      "source": [
        "dataset = pd.get_dummies(dataset, columns= [\"enginelocation\"],drop_first=True)"
      ],
      "metadata": {
        "id": "CIWU-8g4ICjP"
      },
      "execution_count": 11,
      "outputs": []
    },
    {
      "cell_type": "code",
      "source": [
        "dataset = pd.get_dummies(dataset, columns= [\"enginetype\"],drop_first=True)"
      ],
      "metadata": {
        "id": "fJm64J3iINL_"
      },
      "execution_count": 12,
      "outputs": []
    },
    {
      "cell_type": "code",
      "source": [
        "dataset = pd.get_dummies(dataset, columns= [\"fuelsystem\"],drop_first=True)"
      ],
      "metadata": {
        "id": "UHpz8VCQISP7"
      },
      "execution_count": 13,
      "outputs": []
    },
    {
      "cell_type": "markdown",
      "source": [
        "**Checking the cleaned and processed dataset**"
      ],
      "metadata": {
        "id": "kdqxoq_znOtP"
      }
    },
    {
      "cell_type": "code",
      "source": [
        "dataset.head()"
      ],
      "metadata": {
        "colab": {
          "base_uri": "https://localhost:8080/",
          "height": 299
        },
        "id": "beoefzAWnb7v",
        "outputId": "04eb74c4-3932-4716-aca8-3733d8eddf9d"
      },
      "execution_count": 14,
      "outputs": [
        {
          "output_type": "execute_result",
          "data": {
            "text/plain": [
              "   wheelbase  carlength  carwidth  carheight  curbweight  enginesize  \\\n",
              "0       88.6      168.8      64.1       48.8        2548         130   \n",
              "1       88.6      168.8      64.1       48.8        2548         130   \n",
              "2       94.5      171.2      65.5       52.4        2823         152   \n",
              "3       99.8      176.6      66.2       54.3        2337         109   \n",
              "4       99.4      176.6      66.4       54.3        2824         136   \n",
              "\n",
              "   boreratio  stroke  compressionratio  horsepower  ...  enginetype_ohcf  \\\n",
              "0       3.47    2.68               9.0         111  ...                0   \n",
              "1       3.47    2.68               9.0         111  ...                0   \n",
              "2       2.68    3.47               9.0         154  ...                0   \n",
              "3       3.19    3.40              10.0         102  ...                0   \n",
              "4       3.19    3.40               8.0         115  ...                0   \n",
              "\n",
              "   enginetype_ohcv  enginetype_rotor  fuelsystem_2bbl  fuelsystem_4bbl  \\\n",
              "0                0                 0                0                0   \n",
              "1                0                 0                0                0   \n",
              "2                1                 0                0                0   \n",
              "3                0                 0                0                0   \n",
              "4                0                 0                0                0   \n",
              "\n",
              "   fuelsystem_idi  fuelsystem_mfi  fuelsystem_mpfi  fuelsystem_spdi  \\\n",
              "0               0               0                1                0   \n",
              "1               0               0                1                0   \n",
              "2               0               0                1                0   \n",
              "3               0               0                1                0   \n",
              "4               0               0                1                0   \n",
              "\n",
              "   fuelsystem_spfi  \n",
              "0                0  \n",
              "1                0  \n",
              "2                0  \n",
              "3                0  \n",
              "4                0  \n",
              "\n",
              "[5 rows x 43 columns]"
            ],
            "text/html": [
              "\n",
              "  <div id=\"df-eb561aef-b43f-4ff0-8ca6-e738c5604631\">\n",
              "    <div class=\"colab-df-container\">\n",
              "      <div>\n",
              "<style scoped>\n",
              "    .dataframe tbody tr th:only-of-type {\n",
              "        vertical-align: middle;\n",
              "    }\n",
              "\n",
              "    .dataframe tbody tr th {\n",
              "        vertical-align: top;\n",
              "    }\n",
              "\n",
              "    .dataframe thead th {\n",
              "        text-align: right;\n",
              "    }\n",
              "</style>\n",
              "<table border=\"1\" class=\"dataframe\">\n",
              "  <thead>\n",
              "    <tr style=\"text-align: right;\">\n",
              "      <th></th>\n",
              "      <th>wheelbase</th>\n",
              "      <th>carlength</th>\n",
              "      <th>carwidth</th>\n",
              "      <th>carheight</th>\n",
              "      <th>curbweight</th>\n",
              "      <th>enginesize</th>\n",
              "      <th>boreratio</th>\n",
              "      <th>stroke</th>\n",
              "      <th>compressionratio</th>\n",
              "      <th>horsepower</th>\n",
              "      <th>...</th>\n",
              "      <th>enginetype_ohcf</th>\n",
              "      <th>enginetype_ohcv</th>\n",
              "      <th>enginetype_rotor</th>\n",
              "      <th>fuelsystem_2bbl</th>\n",
              "      <th>fuelsystem_4bbl</th>\n",
              "      <th>fuelsystem_idi</th>\n",
              "      <th>fuelsystem_mfi</th>\n",
              "      <th>fuelsystem_mpfi</th>\n",
              "      <th>fuelsystem_spdi</th>\n",
              "      <th>fuelsystem_spfi</th>\n",
              "    </tr>\n",
              "  </thead>\n",
              "  <tbody>\n",
              "    <tr>\n",
              "      <th>0</th>\n",
              "      <td>88.6</td>\n",
              "      <td>168.8</td>\n",
              "      <td>64.1</td>\n",
              "      <td>48.8</td>\n",
              "      <td>2548</td>\n",
              "      <td>130</td>\n",
              "      <td>3.47</td>\n",
              "      <td>2.68</td>\n",
              "      <td>9.0</td>\n",
              "      <td>111</td>\n",
              "      <td>...</td>\n",
              "      <td>0</td>\n",
              "      <td>0</td>\n",
              "      <td>0</td>\n",
              "      <td>0</td>\n",
              "      <td>0</td>\n",
              "      <td>0</td>\n",
              "      <td>0</td>\n",
              "      <td>1</td>\n",
              "      <td>0</td>\n",
              "      <td>0</td>\n",
              "    </tr>\n",
              "    <tr>\n",
              "      <th>1</th>\n",
              "      <td>88.6</td>\n",
              "      <td>168.8</td>\n",
              "      <td>64.1</td>\n",
              "      <td>48.8</td>\n",
              "      <td>2548</td>\n",
              "      <td>130</td>\n",
              "      <td>3.47</td>\n",
              "      <td>2.68</td>\n",
              "      <td>9.0</td>\n",
              "      <td>111</td>\n",
              "      <td>...</td>\n",
              "      <td>0</td>\n",
              "      <td>0</td>\n",
              "      <td>0</td>\n",
              "      <td>0</td>\n",
              "      <td>0</td>\n",
              "      <td>0</td>\n",
              "      <td>0</td>\n",
              "      <td>1</td>\n",
              "      <td>0</td>\n",
              "      <td>0</td>\n",
              "    </tr>\n",
              "    <tr>\n",
              "      <th>2</th>\n",
              "      <td>94.5</td>\n",
              "      <td>171.2</td>\n",
              "      <td>65.5</td>\n",
              "      <td>52.4</td>\n",
              "      <td>2823</td>\n",
              "      <td>152</td>\n",
              "      <td>2.68</td>\n",
              "      <td>3.47</td>\n",
              "      <td>9.0</td>\n",
              "      <td>154</td>\n",
              "      <td>...</td>\n",
              "      <td>0</td>\n",
              "      <td>1</td>\n",
              "      <td>0</td>\n",
              "      <td>0</td>\n",
              "      <td>0</td>\n",
              "      <td>0</td>\n",
              "      <td>0</td>\n",
              "      <td>1</td>\n",
              "      <td>0</td>\n",
              "      <td>0</td>\n",
              "    </tr>\n",
              "    <tr>\n",
              "      <th>3</th>\n",
              "      <td>99.8</td>\n",
              "      <td>176.6</td>\n",
              "      <td>66.2</td>\n",
              "      <td>54.3</td>\n",
              "      <td>2337</td>\n",
              "      <td>109</td>\n",
              "      <td>3.19</td>\n",
              "      <td>3.40</td>\n",
              "      <td>10.0</td>\n",
              "      <td>102</td>\n",
              "      <td>...</td>\n",
              "      <td>0</td>\n",
              "      <td>0</td>\n",
              "      <td>0</td>\n",
              "      <td>0</td>\n",
              "      <td>0</td>\n",
              "      <td>0</td>\n",
              "      <td>0</td>\n",
              "      <td>1</td>\n",
              "      <td>0</td>\n",
              "      <td>0</td>\n",
              "    </tr>\n",
              "    <tr>\n",
              "      <th>4</th>\n",
              "      <td>99.4</td>\n",
              "      <td>176.6</td>\n",
              "      <td>66.4</td>\n",
              "      <td>54.3</td>\n",
              "      <td>2824</td>\n",
              "      <td>136</td>\n",
              "      <td>3.19</td>\n",
              "      <td>3.40</td>\n",
              "      <td>8.0</td>\n",
              "      <td>115</td>\n",
              "      <td>...</td>\n",
              "      <td>0</td>\n",
              "      <td>0</td>\n",
              "      <td>0</td>\n",
              "      <td>0</td>\n",
              "      <td>0</td>\n",
              "      <td>0</td>\n",
              "      <td>0</td>\n",
              "      <td>1</td>\n",
              "      <td>0</td>\n",
              "      <td>0</td>\n",
              "    </tr>\n",
              "  </tbody>\n",
              "</table>\n",
              "<p>5 rows × 43 columns</p>\n",
              "</div>\n",
              "      <button class=\"colab-df-convert\" onclick=\"convertToInteractive('df-eb561aef-b43f-4ff0-8ca6-e738c5604631')\"\n",
              "              title=\"Convert this dataframe to an interactive table.\"\n",
              "              style=\"display:none;\">\n",
              "        \n",
              "  <svg xmlns=\"http://www.w3.org/2000/svg\" height=\"24px\"viewBox=\"0 0 24 24\"\n",
              "       width=\"24px\">\n",
              "    <path d=\"M0 0h24v24H0V0z\" fill=\"none\"/>\n",
              "    <path d=\"M18.56 5.44l.94 2.06.94-2.06 2.06-.94-2.06-.94-.94-2.06-.94 2.06-2.06.94zm-11 1L8.5 8.5l.94-2.06 2.06-.94-2.06-.94L8.5 2.5l-.94 2.06-2.06.94zm10 10l.94 2.06.94-2.06 2.06-.94-2.06-.94-.94-2.06-.94 2.06-2.06.94z\"/><path d=\"M17.41 7.96l-1.37-1.37c-.4-.4-.92-.59-1.43-.59-.52 0-1.04.2-1.43.59L10.3 9.45l-7.72 7.72c-.78.78-.78 2.05 0 2.83L4 21.41c.39.39.9.59 1.41.59.51 0 1.02-.2 1.41-.59l7.78-7.78 2.81-2.81c.8-.78.8-2.07 0-2.86zM5.41 20L4 18.59l7.72-7.72 1.47 1.35L5.41 20z\"/>\n",
              "  </svg>\n",
              "      </button>\n",
              "      \n",
              "  <style>\n",
              "    .colab-df-container {\n",
              "      display:flex;\n",
              "      flex-wrap:wrap;\n",
              "      gap: 12px;\n",
              "    }\n",
              "\n",
              "    .colab-df-convert {\n",
              "      background-color: #E8F0FE;\n",
              "      border: none;\n",
              "      border-radius: 50%;\n",
              "      cursor: pointer;\n",
              "      display: none;\n",
              "      fill: #1967D2;\n",
              "      height: 32px;\n",
              "      padding: 0 0 0 0;\n",
              "      width: 32px;\n",
              "    }\n",
              "\n",
              "    .colab-df-convert:hover {\n",
              "      background-color: #E2EBFA;\n",
              "      box-shadow: 0px 1px 2px rgba(60, 64, 67, 0.3), 0px 1px 3px 1px rgba(60, 64, 67, 0.15);\n",
              "      fill: #174EA6;\n",
              "    }\n",
              "\n",
              "    [theme=dark] .colab-df-convert {\n",
              "      background-color: #3B4455;\n",
              "      fill: #D2E3FC;\n",
              "    }\n",
              "\n",
              "    [theme=dark] .colab-df-convert:hover {\n",
              "      background-color: #434B5C;\n",
              "      box-shadow: 0px 1px 3px 1px rgba(0, 0, 0, 0.15);\n",
              "      filter: drop-shadow(0px 1px 2px rgba(0, 0, 0, 0.3));\n",
              "      fill: #FFFFFF;\n",
              "    }\n",
              "  </style>\n",
              "\n",
              "      <script>\n",
              "        const buttonEl =\n",
              "          document.querySelector('#df-eb561aef-b43f-4ff0-8ca6-e738c5604631 button.colab-df-convert');\n",
              "        buttonEl.style.display =\n",
              "          google.colab.kernel.accessAllowed ? 'block' : 'none';\n",
              "\n",
              "        async function convertToInteractive(key) {\n",
              "          const element = document.querySelector('#df-eb561aef-b43f-4ff0-8ca6-e738c5604631');\n",
              "          const dataTable =\n",
              "            await google.colab.kernel.invokeFunction('convertToInteractive',\n",
              "                                                     [key], {});\n",
              "          if (!dataTable) return;\n",
              "\n",
              "          const docLinkHtml = 'Like what you see? Visit the ' +\n",
              "            '<a target=\"_blank\" href=https://colab.research.google.com/notebooks/data_table.ipynb>data table notebook</a>'\n",
              "            + ' to learn more about interactive tables.';\n",
              "          element.innerHTML = '';\n",
              "          dataTable['output_type'] = 'display_data';\n",
              "          await google.colab.output.renderOutput(dataTable, element);\n",
              "          const docLink = document.createElement('div');\n",
              "          docLink.innerHTML = docLinkHtml;\n",
              "          element.appendChild(docLink);\n",
              "        }\n",
              "      </script>\n",
              "    </div>\n",
              "  </div>\n",
              "  "
            ]
          },
          "metadata": {},
          "execution_count": 14
        }
      ]
    },
    {
      "cell_type": "markdown",
      "source": [
        "### **Handling Missing Value**\n",
        "We will take a look at if there is any missing data in our data. If there are, we will try to eliminate them."
      ],
      "metadata": {
        "id": "X0zYFTXvo2FR"
      }
    },
    {
      "cell_type": "code",
      "source": [
        "dataset.columns[dataset.isnull().any()]"
      ],
      "metadata": {
        "colab": {
          "base_uri": "https://localhost:8080/"
        },
        "id": "amSSzdIirFqV",
        "outputId": "168b6b92-cc3b-4430-c848-1a1bffbf7356"
      },
      "execution_count": 15,
      "outputs": [
        {
          "output_type": "execute_result",
          "data": {
            "text/plain": [
              "Index([], dtype='object')"
            ]
          },
          "metadata": {},
          "execution_count": 15
        }
      ]
    },
    {
      "cell_type": "code",
      "source": [
        "dataset.isna().sum()"
      ],
      "metadata": {
        "colab": {
          "base_uri": "https://localhost:8080/"
        },
        "id": "dxhriy-ArYK6",
        "outputId": "117276eb-037d-4ff5-ae62-230efe51d6b1"
      },
      "execution_count": 16,
      "outputs": [
        {
          "output_type": "execute_result",
          "data": {
            "text/plain": [
              "wheelbase                0\n",
              "carlength                0\n",
              "carwidth                 0\n",
              "carheight                0\n",
              "curbweight               0\n",
              "enginesize               0\n",
              "boreratio                0\n",
              "stroke                   0\n",
              "compressionratio         0\n",
              "horsepower               0\n",
              "peakrpm                  0\n",
              "citympg                  0\n",
              "highwaympg               0\n",
              "price                    0\n",
              "drivewheel_fwd           0\n",
              "drivewheel_rwd           0\n",
              "doornumber_two           0\n",
              "cylindernumber_five      0\n",
              "cylindernumber_four      0\n",
              "cylindernumber_six       0\n",
              "cylindernumber_three     0\n",
              "cylindernumber_twelve    0\n",
              "cylindernumber_two       0\n",
              "fueltype_gas             0\n",
              "aspiration_turbo         0\n",
              "carbody_hardtop          0\n",
              "carbody_hatchback        0\n",
              "carbody_sedan            0\n",
              "carbody_wagon            0\n",
              "enginelocation_rear      0\n",
              "enginetype_dohcv         0\n",
              "enginetype_l             0\n",
              "enginetype_ohc           0\n",
              "enginetype_ohcf          0\n",
              "enginetype_ohcv          0\n",
              "enginetype_rotor         0\n",
              "fuelsystem_2bbl          0\n",
              "fuelsystem_4bbl          0\n",
              "fuelsystem_idi           0\n",
              "fuelsystem_mfi           0\n",
              "fuelsystem_mpfi          0\n",
              "fuelsystem_spdi          0\n",
              "fuelsystem_spfi          0\n",
              "dtype: int64"
            ]
          },
          "metadata": {},
          "execution_count": 16
        }
      ]
    },
    {
      "cell_type": "markdown",
      "source": [
        "No Null value is present in the data"
      ],
      "metadata": {
        "id": "RMLH6fLhrUJZ"
      }
    },
    {
      "cell_type": "markdown",
      "source": [
        "### **Defining Independent and Dependent Varriable**"
      ],
      "metadata": {
        "id": "ItyYPK53nmc3"
      }
    },
    {
      "cell_type": "code",
      "source": [
        "X=dataset.drop(\"price\", axis=1)\n",
        "Y=dataset[\"price\"]"
      ],
      "metadata": {
        "id": "LxybljUwn5rw"
      },
      "execution_count": 17,
      "outputs": []
    },
    {
      "cell_type": "code",
      "source": [
        "print(X)"
      ],
      "metadata": {
        "colab": {
          "base_uri": "https://localhost:8080/"
        },
        "id": "8jJYWnD_n-Fy",
        "outputId": "b096bf16-3b13-4076-9332-90f6244ffa1d"
      },
      "execution_count": 18,
      "outputs": [
        {
          "output_type": "stream",
          "name": "stdout",
          "text": [
            "     wheelbase  carlength  carwidth  carheight  curbweight  enginesize  \\\n",
            "0         88.6      168.8      64.1       48.8        2548         130   \n",
            "1         88.6      168.8      64.1       48.8        2548         130   \n",
            "2         94.5      171.2      65.5       52.4        2823         152   \n",
            "3         99.8      176.6      66.2       54.3        2337         109   \n",
            "4         99.4      176.6      66.4       54.3        2824         136   \n",
            "..         ...        ...       ...        ...         ...         ...   \n",
            "200      109.1      188.8      68.9       55.5        2952         141   \n",
            "201      109.1      188.8      68.8       55.5        3049         141   \n",
            "202      109.1      188.8      68.9       55.5        3012         173   \n",
            "203      109.1      188.8      68.9       55.5        3217         145   \n",
            "204      109.1      188.8      68.9       55.5        3062         141   \n",
            "\n",
            "     boreratio  stroke  compressionratio  horsepower  ...  enginetype_ohcf  \\\n",
            "0         3.47    2.68               9.0         111  ...                0   \n",
            "1         3.47    2.68               9.0         111  ...                0   \n",
            "2         2.68    3.47               9.0         154  ...                0   \n",
            "3         3.19    3.40              10.0         102  ...                0   \n",
            "4         3.19    3.40               8.0         115  ...                0   \n",
            "..         ...     ...               ...         ...  ...              ...   \n",
            "200       3.78    3.15               9.5         114  ...                0   \n",
            "201       3.78    3.15               8.7         160  ...                0   \n",
            "202       3.58    2.87               8.8         134  ...                0   \n",
            "203       3.01    3.40              23.0         106  ...                0   \n",
            "204       3.78    3.15               9.5         114  ...                0   \n",
            "\n",
            "     enginetype_ohcv  enginetype_rotor  fuelsystem_2bbl  fuelsystem_4bbl  \\\n",
            "0                  0                 0                0                0   \n",
            "1                  0                 0                0                0   \n",
            "2                  1                 0                0                0   \n",
            "3                  0                 0                0                0   \n",
            "4                  0                 0                0                0   \n",
            "..               ...               ...              ...              ...   \n",
            "200                0                 0                0                0   \n",
            "201                0                 0                0                0   \n",
            "202                1                 0                0                0   \n",
            "203                0                 0                0                0   \n",
            "204                0                 0                0                0   \n",
            "\n",
            "     fuelsystem_idi  fuelsystem_mfi  fuelsystem_mpfi  fuelsystem_spdi  \\\n",
            "0                 0               0                1                0   \n",
            "1                 0               0                1                0   \n",
            "2                 0               0                1                0   \n",
            "3                 0               0                1                0   \n",
            "4                 0               0                1                0   \n",
            "..              ...             ...              ...              ...   \n",
            "200               0               0                1                0   \n",
            "201               0               0                1                0   \n",
            "202               0               0                1                0   \n",
            "203               1               0                0                0   \n",
            "204               0               0                1                0   \n",
            "\n",
            "     fuelsystem_spfi  \n",
            "0                  0  \n",
            "1                  0  \n",
            "2                  0  \n",
            "3                  0  \n",
            "4                  0  \n",
            "..               ...  \n",
            "200                0  \n",
            "201                0  \n",
            "202                0  \n",
            "203                0  \n",
            "204                0  \n",
            "\n",
            "[205 rows x 42 columns]\n"
          ]
        }
      ]
    },
    {
      "cell_type": "code",
      "source": [
        "print(Y)"
      ],
      "metadata": {
        "colab": {
          "base_uri": "https://localhost:8080/"
        },
        "id": "mFNDKifgn-p2",
        "outputId": "37a65a57-4279-4992-f055-c505e58600ad"
      },
      "execution_count": 19,
      "outputs": [
        {
          "output_type": "stream",
          "name": "stdout",
          "text": [
            "0      13495.0\n",
            "1      16500.0\n",
            "2      16500.0\n",
            "3      13950.0\n",
            "4      17450.0\n",
            "        ...   \n",
            "200    16845.0\n",
            "201    19045.0\n",
            "202    21485.0\n",
            "203    22470.0\n",
            "204    22625.0\n",
            "Name: price, Length: 205, dtype: float64\n"
          ]
        }
      ]
    },
    {
      "cell_type": "markdown",
      "source": [
        "### **Spliiting data in Training set and Test Set**"
      ],
      "metadata": {
        "id": "4UAZ6tnXri7W"
      }
    },
    {
      "cell_type": "code",
      "source": [
        "test_size = 0.25\n",
        "X_train, X_test, Y_train, Y_test = train_test_split(X, Y, test_size = test_size, random_state = 20)"
      ],
      "metadata": {
        "id": "0xKpSw4RrijN"
      },
      "execution_count": 20,
      "outputs": []
    },
    {
      "cell_type": "markdown",
      "source": [
        "### **Printing the shapes of train and test data**"
      ],
      "metadata": {
        "id": "DIsB6Uozr-HH"
      }
    },
    {
      "cell_type": "code",
      "source": [
        "print(\"X_train shape {}, len {}.\".format(X_train.shape,len(X_train)))\n",
        "print(\"X_test shape {}, len {}.\".format(X_test.shape,len(X_test)))\n",
        "print(\"Y_train shape {}, len {}.\".format(Y_train.shape,len(Y_train)))\n",
        "print(\"Y_test shape {}, len {}.\".format(Y_test.shape,len(Y_test)))"
      ],
      "metadata": {
        "colab": {
          "base_uri": "https://localhost:8080/"
        },
        "id": "7QCp1odZr5rI",
        "outputId": "d1a579cd-32ea-45e4-a6b6-8a1e7ccec17b"
      },
      "execution_count": 21,
      "outputs": [
        {
          "output_type": "stream",
          "name": "stdout",
          "text": [
            "X_train shape (153, 42), len 153.\n",
            "X_test shape (52, 42), len 52.\n",
            "Y_train shape (153,), len 153.\n",
            "Y_test shape (52,), len 52.\n"
          ]
        }
      ]
    },
    {
      "cell_type": "markdown",
      "source": [
        "# **Decision Tree Regression Model Building**"
      ],
      "metadata": {
        "id": "xtZTmGdHtOKB"
      }
    },
    {
      "cell_type": "markdown",
      "source": [
        "### **Building a decision tree regression model**"
      ],
      "metadata": {
        "id": "0qxfpL3PuOXs"
      }
    },
    {
      "cell_type": "code",
      "source": [
        "from sklearn.tree import DecisionTreeRegressor\n",
        "regressor = DecisionTreeRegressor(random_state = 0)"
      ],
      "metadata": {
        "id": "LWi8IV1euOzv"
      },
      "execution_count": 22,
      "outputs": []
    },
    {
      "cell_type": "markdown",
      "source": [
        "### **Train the model on the train dataset**"
      ],
      "metadata": {
        "id": "TPAFS9muwuwS"
      }
    },
    {
      "cell_type": "code",
      "source": [
        "regressor.fit(X_train, Y_train)"
      ],
      "metadata": {
        "colab": {
          "base_uri": "https://localhost:8080/"
        },
        "id": "paV2px6ouYpV",
        "outputId": "bc215e4b-d7a5-4f1a-cb0b-a91f31a52beb"
      },
      "execution_count": 23,
      "outputs": [
        {
          "output_type": "execute_result",
          "data": {
            "text/plain": [
              "DecisionTreeRegressor(random_state=0)"
            ]
          },
          "metadata": {},
          "execution_count": 23
        }
      ]
    },
    {
      "cell_type": "code",
      "source": [
        "predict = regressor.predict(X_test)"
      ],
      "metadata": {
        "id": "nHQKgu6pubtg"
      },
      "execution_count": 24,
      "outputs": []
    },
    {
      "cell_type": "markdown",
      "source": [
        "### **Printing the model summary**"
      ],
      "metadata": {
        "id": "tFJcMourwx-A"
      }
    },
    {
      "cell_type": "code",
      "source": [
        "df_DecisionTree = pd.DataFrame({'Actual': Y_test, 'Predicted': predict})\n",
        "df_DecisionTree.head()"
      ],
      "metadata": {
        "colab": {
          "base_uri": "https://localhost:8080/",
          "height": 206
        },
        "id": "d7qM7ATrxNEF",
        "outputId": "bb1215fd-45fd-42be-e3f9-ea8d6ba6df4e"
      },
      "execution_count": 33,
      "outputs": [
        {
          "output_type": "execute_result",
          "data": {
            "text/plain": [
              "      Actual  Predicted\n",
              "5    15250.0    13495.0\n",
              "44    8916.5     8916.5\n",
              "155   8778.0    15985.0\n",
              "129  31400.5    41315.0\n",
              "152   6488.0     5348.0"
            ],
            "text/html": [
              "\n",
              "  <div id=\"df-4ba69691-2bc3-4ab5-b761-e4fa7737b60c\">\n",
              "    <div class=\"colab-df-container\">\n",
              "      <div>\n",
              "<style scoped>\n",
              "    .dataframe tbody tr th:only-of-type {\n",
              "        vertical-align: middle;\n",
              "    }\n",
              "\n",
              "    .dataframe tbody tr th {\n",
              "        vertical-align: top;\n",
              "    }\n",
              "\n",
              "    .dataframe thead th {\n",
              "        text-align: right;\n",
              "    }\n",
              "</style>\n",
              "<table border=\"1\" class=\"dataframe\">\n",
              "  <thead>\n",
              "    <tr style=\"text-align: right;\">\n",
              "      <th></th>\n",
              "      <th>Actual</th>\n",
              "      <th>Predicted</th>\n",
              "    </tr>\n",
              "  </thead>\n",
              "  <tbody>\n",
              "    <tr>\n",
              "      <th>5</th>\n",
              "      <td>15250.0</td>\n",
              "      <td>13495.0</td>\n",
              "    </tr>\n",
              "    <tr>\n",
              "      <th>44</th>\n",
              "      <td>8916.5</td>\n",
              "      <td>8916.5</td>\n",
              "    </tr>\n",
              "    <tr>\n",
              "      <th>155</th>\n",
              "      <td>8778.0</td>\n",
              "      <td>15985.0</td>\n",
              "    </tr>\n",
              "    <tr>\n",
              "      <th>129</th>\n",
              "      <td>31400.5</td>\n",
              "      <td>41315.0</td>\n",
              "    </tr>\n",
              "    <tr>\n",
              "      <th>152</th>\n",
              "      <td>6488.0</td>\n",
              "      <td>5348.0</td>\n",
              "    </tr>\n",
              "  </tbody>\n",
              "</table>\n",
              "</div>\n",
              "      <button class=\"colab-df-convert\" onclick=\"convertToInteractive('df-4ba69691-2bc3-4ab5-b761-e4fa7737b60c')\"\n",
              "              title=\"Convert this dataframe to an interactive table.\"\n",
              "              style=\"display:none;\">\n",
              "        \n",
              "  <svg xmlns=\"http://www.w3.org/2000/svg\" height=\"24px\"viewBox=\"0 0 24 24\"\n",
              "       width=\"24px\">\n",
              "    <path d=\"M0 0h24v24H0V0z\" fill=\"none\"/>\n",
              "    <path d=\"M18.56 5.44l.94 2.06.94-2.06 2.06-.94-2.06-.94-.94-2.06-.94 2.06-2.06.94zm-11 1L8.5 8.5l.94-2.06 2.06-.94-2.06-.94L8.5 2.5l-.94 2.06-2.06.94zm10 10l.94 2.06.94-2.06 2.06-.94-2.06-.94-.94-2.06-.94 2.06-2.06.94z\"/><path d=\"M17.41 7.96l-1.37-1.37c-.4-.4-.92-.59-1.43-.59-.52 0-1.04.2-1.43.59L10.3 9.45l-7.72 7.72c-.78.78-.78 2.05 0 2.83L4 21.41c.39.39.9.59 1.41.59.51 0 1.02-.2 1.41-.59l7.78-7.78 2.81-2.81c.8-.78.8-2.07 0-2.86zM5.41 20L4 18.59l7.72-7.72 1.47 1.35L5.41 20z\"/>\n",
              "  </svg>\n",
              "      </button>\n",
              "      \n",
              "  <style>\n",
              "    .colab-df-container {\n",
              "      display:flex;\n",
              "      flex-wrap:wrap;\n",
              "      gap: 12px;\n",
              "    }\n",
              "\n",
              "    .colab-df-convert {\n",
              "      background-color: #E8F0FE;\n",
              "      border: none;\n",
              "      border-radius: 50%;\n",
              "      cursor: pointer;\n",
              "      display: none;\n",
              "      fill: #1967D2;\n",
              "      height: 32px;\n",
              "      padding: 0 0 0 0;\n",
              "      width: 32px;\n",
              "    }\n",
              "\n",
              "    .colab-df-convert:hover {\n",
              "      background-color: #E2EBFA;\n",
              "      box-shadow: 0px 1px 2px rgba(60, 64, 67, 0.3), 0px 1px 3px 1px rgba(60, 64, 67, 0.15);\n",
              "      fill: #174EA6;\n",
              "    }\n",
              "\n",
              "    [theme=dark] .colab-df-convert {\n",
              "      background-color: #3B4455;\n",
              "      fill: #D2E3FC;\n",
              "    }\n",
              "\n",
              "    [theme=dark] .colab-df-convert:hover {\n",
              "      background-color: #434B5C;\n",
              "      box-shadow: 0px 1px 3px 1px rgba(0, 0, 0, 0.15);\n",
              "      filter: drop-shadow(0px 1px 2px rgba(0, 0, 0, 0.3));\n",
              "      fill: #FFFFFF;\n",
              "    }\n",
              "  </style>\n",
              "\n",
              "      <script>\n",
              "        const buttonEl =\n",
              "          document.querySelector('#df-4ba69691-2bc3-4ab5-b761-e4fa7737b60c button.colab-df-convert');\n",
              "        buttonEl.style.display =\n",
              "          google.colab.kernel.accessAllowed ? 'block' : 'none';\n",
              "\n",
              "        async function convertToInteractive(key) {\n",
              "          const element = document.querySelector('#df-4ba69691-2bc3-4ab5-b761-e4fa7737b60c');\n",
              "          const dataTable =\n",
              "            await google.colab.kernel.invokeFunction('convertToInteractive',\n",
              "                                                     [key], {});\n",
              "          if (!dataTable) return;\n",
              "\n",
              "          const docLinkHtml = 'Like what you see? Visit the ' +\n",
              "            '<a target=\"_blank\" href=https://colab.research.google.com/notebooks/data_table.ipynb>data table notebook</a>'\n",
              "            + ' to learn more about interactive tables.';\n",
              "          element.innerHTML = '';\n",
              "          dataTable['output_type'] = 'display_data';\n",
              "          await google.colab.output.renderOutput(dataTable, element);\n",
              "          const docLink = document.createElement('div');\n",
              "          docLink.innerHTML = docLinkHtml;\n",
              "          element.appendChild(docLink);\n",
              "        }\n",
              "      </script>\n",
              "    </div>\n",
              "  </div>\n",
              "  "
            ]
          },
          "metadata": {},
          "execution_count": 33
        }
      ]
    },
    {
      "cell_type": "code",
      "source": [
        "score = r2_score(Y_test,predict)\n",
        "print(\"r_square score --> \",score)\n",
        "print('Mean Absolute Error -->', metrics.mean_absolute_error(Y_test, predict))\n",
        "print('Mean Squared Error -->', metrics.mean_squared_error(Y_test, predict))\n",
        "print('Root Mean Squared Error -->', np.sqrt(metrics.mean_squared_error(Y_test, predict)))"
      ],
      "metadata": {
        "colab": {
          "base_uri": "https://localhost:8080/"
        },
        "id": "KkS5G4YNW3e1",
        "outputId": "7c97b72c-54db-4a1e-d816-c59e1ecae8d2"
      },
      "execution_count": 34,
      "outputs": [
        {
          "output_type": "stream",
          "name": "stdout",
          "text": [
            "r_square score -->  0.739868079727191\n",
            "Mean Absolute Error --> 1944.6442307692307\n",
            "Mean Squared Error --> 7737752.225961538\n",
            "Root Mean Squared Error --> 2781.681546468168\n"
          ]
        }
      ]
    },
    {
      "cell_type": "code",
      "source": [
        "dataset.columns"
      ],
      "metadata": {
        "colab": {
          "base_uri": "https://localhost:8080/"
        },
        "id": "gyFzTdieC3uj",
        "outputId": "53646f0f-fba6-4883-a4fc-7b0ed0c06739"
      },
      "execution_count": 36,
      "outputs": [
        {
          "output_type": "execute_result",
          "data": {
            "text/plain": [
              "Index(['wheelbase', 'carlength', 'carwidth', 'carheight', 'curbweight',\n",
              "       'enginesize', 'boreratio', 'stroke', 'compressionratio', 'horsepower',\n",
              "       'peakrpm', 'citympg', 'highwaympg', 'price', 'drivewheel_fwd',\n",
              "       'drivewheel_rwd', 'doornumber_two', 'cylindernumber_five',\n",
              "       'cylindernumber_four', 'cylindernumber_six', 'cylindernumber_three',\n",
              "       'cylindernumber_twelve', 'cylindernumber_two', 'fueltype_gas',\n",
              "       'aspiration_turbo', 'carbody_hardtop', 'carbody_hatchback',\n",
              "       'carbody_sedan', 'carbody_wagon', 'enginelocation_rear',\n",
              "       'enginetype_dohcv', 'enginetype_l', 'enginetype_ohc', 'enginetype_ohcf',\n",
              "       'enginetype_ohcv', 'enginetype_rotor', 'fuelsystem_2bbl',\n",
              "       'fuelsystem_4bbl', 'fuelsystem_idi', 'fuelsystem_mfi',\n",
              "       'fuelsystem_mpfi', 'fuelsystem_spdi', 'fuelsystem_spfi'],\n",
              "      dtype='object')"
            ]
          },
          "metadata": {},
          "execution_count": 36
        }
      ]
    },
    {
      "cell_type": "code",
      "source": [
        "importance = regressor.feature_importances_\n",
        "# summarize feature importance\n",
        "for i,v in enumerate(importance):\n",
        "\tprint('Feature: %0d, Score: %.5f' % (i,v))"
      ],
      "metadata": {
        "colab": {
          "base_uri": "https://localhost:8080/"
        },
        "id": "IGtdadGtXQei",
        "outputId": "47061ef3-41df-4dc4-8215-c4ea7a3e775c"
      },
      "execution_count": 35,
      "outputs": [
        {
          "output_type": "stream",
          "name": "stdout",
          "text": [
            "Feature: 0, Score: 0.00080\n",
            "Feature: 1, Score: 0.00300\n",
            "Feature: 2, Score: 0.01101\n",
            "Feature: 3, Score: 0.00047\n",
            "Feature: 4, Score: 0.21049\n",
            "Feature: 5, Score: 0.71386\n",
            "Feature: 6, Score: 0.00004\n",
            "Feature: 7, Score: 0.01322\n",
            "Feature: 8, Score: 0.00004\n",
            "Feature: 9, Score: 0.01707\n",
            "Feature: 10, Score: 0.00617\n",
            "Feature: 11, Score: 0.00040\n",
            "Feature: 12, Score: 0.01784\n",
            "Feature: 13, Score: 0.00004\n",
            "Feature: 14, Score: 0.00002\n",
            "Feature: 15, Score: 0.00013\n",
            "Feature: 16, Score: 0.00000\n",
            "Feature: 17, Score: 0.00015\n",
            "Feature: 18, Score: 0.00000\n",
            "Feature: 19, Score: 0.00000\n",
            "Feature: 20, Score: 0.00000\n",
            "Feature: 21, Score: 0.00000\n",
            "Feature: 22, Score: 0.00000\n",
            "Feature: 23, Score: 0.00000\n",
            "Feature: 24, Score: 0.00090\n",
            "Feature: 25, Score: 0.00157\n",
            "Feature: 26, Score: 0.00018\n",
            "Feature: 27, Score: 0.00000\n",
            "Feature: 28, Score: 0.00094\n",
            "Feature: 29, Score: 0.00000\n",
            "Feature: 30, Score: 0.00000\n",
            "Feature: 31, Score: 0.00000\n",
            "Feature: 32, Score: 0.00001\n",
            "Feature: 33, Score: 0.00000\n",
            "Feature: 34, Score: 0.00000\n",
            "Feature: 35, Score: 0.00162\n",
            "Feature: 36, Score: 0.00000\n",
            "Feature: 37, Score: 0.00002\n",
            "Feature: 38, Score: 0.00000\n",
            "Feature: 39, Score: 0.00003\n",
            "Feature: 40, Score: 0.00000\n",
            "Feature: 41, Score: 0.00000\n"
          ]
        }
      ]
    },
    {
      "cell_type": "markdown",
      "source": [
        "# **Random Forest Regression Model Building** "
      ],
      "metadata": {
        "id": "t7-f5-oyxTWJ"
      }
    },
    {
      "cell_type": "markdown",
      "source": [
        "### **Building a decision tree regression model**"
      ],
      "metadata": {
        "id": "BchcEUBDyzHy"
      }
    },
    {
      "cell_type": "code",
      "source": [
        "from sklearn.ensemble import RandomForestRegressor\n",
        "regressor_F = RandomForestRegressor(n_estimators = 10, random_state = 0) #n_etimator is the no. of trees or no. of estimates by taking average of which we will get the final result\n"
      ],
      "metadata": {
        "id": "jyT-fYcLxbaI"
      },
      "execution_count": null,
      "outputs": []
    },
    {
      "cell_type": "markdown",
      "source": [
        "### **Train the model on the train dataset**"
      ],
      "metadata": {
        "id": "e_HrnUhEy432"
      }
    },
    {
      "cell_type": "code",
      "source": [
        "regressor_F.fit(X_train, Y_train)"
      ],
      "metadata": {
        "id": "pi-Ou7sTy8t6"
      },
      "execution_count": null,
      "outputs": []
    },
    {
      "cell_type": "code",
      "source": [
        "predict_F = regressor.predict(X_test)"
      ],
      "metadata": {
        "id": "pN_ldDlQzIFE"
      },
      "execution_count": null,
      "outputs": []
    },
    {
      "cell_type": "markdown",
      "source": [
        "### **Printing the model summary**"
      ],
      "metadata": {
        "id": "MtVbuGbGzN7Z"
      }
    },
    {
      "cell_type": "code",
      "source": [
        "df_RandomForest = pd.DataFrame({'Actual': Y_test, 'Predicted': predict_F})\n",
        "df_RandomForest.head()"
      ],
      "metadata": {
        "id": "wG4pPpY9zZ1x"
      },
      "execution_count": null,
      "outputs": []
    }
  ]
}