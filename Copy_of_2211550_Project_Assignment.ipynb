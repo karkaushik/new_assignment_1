{
  "nbformat": 4,
  "nbformat_minor": 0,
  "metadata": {
    "colab": {
      "provenance": [],
      "collapsed_sections": []
    },
    "kernelspec": {
      "name": "python3",
      "display_name": "Python 3"
    },
    "language_info": {
      "name": "python"
    }
  },
  "cells": [
    {
      "cell_type": "markdown",
      "source": [
        "1.\tImport Libraries/Dataset "
      ],
      "metadata": {
        "id": "EuwPLBpB9g4Y"
      }
    },
    {
      "cell_type": "code",
      "execution_count": 9,
      "metadata": {
        "id": "v7CsW1ZexRlG"
      },
      "outputs": [],
      "source": [
        "import pandas as pd\n",
        "import numpy as np\n",
        "import seaborn as sns\n",
        "import matplotlib.pyplot as plt"
      ]
    },
    {
      "cell_type": "markdown",
      "source": [
        "Importing the data"
      ],
      "metadata": {
        "id": "RBMpT3NA9e-I"
      }
    },
    {
      "cell_type": "code",
      "source": [
        "car = pd.read_csv('/content/CarPrice.csv')"
      ],
      "metadata": {
        "id": "f8Ov_Hdv_OZQ"
      },
      "execution_count": 10,
      "outputs": []
    },
    {
      "cell_type": "markdown",
      "source": [
        "Checking tha data"
      ],
      "metadata": {
        "id": "OWNdAVSkBycm"
      }
    },
    {
      "cell_type": "code",
      "source": [
        "car.head()"
      ],
      "metadata": {
        "id": "5v0FkCH-BjiD",
        "colab": {
          "base_uri": "https://localhost:8080/",
          "height": 352
        },
        "outputId": "5a90fa66-0d22-4da9-ee53-d51883ff2e35"
      },
      "execution_count": 11,
      "outputs": [
        {
          "output_type": "execute_result",
          "data": {
            "text/plain": [
              "   car_ID  symboling                   CarName fueltype aspiration doornumber  \\\n",
              "0       1          3        alfa-romero giulia      gas        std        two   \n",
              "1       2          3       alfa-romero stelvio      gas        std        two   \n",
              "2       3          1  alfa-romero Quadrifoglio      gas        std        two   \n",
              "3       4          2               audi 100 ls      gas        std       four   \n",
              "4       5          2                audi 100ls      gas        std       four   \n",
              "\n",
              "       carbody drivewheel enginelocation  wheelbase  ...  enginesize  \\\n",
              "0  convertible        rwd          front       88.6  ...         130   \n",
              "1  convertible        rwd          front       88.6  ...         130   \n",
              "2    hatchback        rwd          front       94.5  ...         152   \n",
              "3        sedan        fwd          front       99.8  ...         109   \n",
              "4        sedan        4wd          front       99.4  ...         136   \n",
              "\n",
              "   fuelsystem  boreratio  stroke compressionratio horsepower  peakrpm citympg  \\\n",
              "0        mpfi       3.47    2.68              9.0        111     5000      21   \n",
              "1        mpfi       3.47    2.68              9.0        111     5000      21   \n",
              "2        mpfi       2.68    3.47              9.0        154     5000      19   \n",
              "3        mpfi       3.19    3.40             10.0        102     5500      24   \n",
              "4        mpfi       3.19    3.40              8.0        115     5500      18   \n",
              "\n",
              "   highwaympg    price  \n",
              "0          27  13495.0  \n",
              "1          27  16500.0  \n",
              "2          26  16500.0  \n",
              "3          30  13950.0  \n",
              "4          22  17450.0  \n",
              "\n",
              "[5 rows x 26 columns]"
            ],
            "text/html": [
              "\n",
              "  <div id=\"df-844b18f2-6e08-478b-9dda-eaa8c13e325d\">\n",
              "    <div class=\"colab-df-container\">\n",
              "      <div>\n",
              "<style scoped>\n",
              "    .dataframe tbody tr th:only-of-type {\n",
              "        vertical-align: middle;\n",
              "    }\n",
              "\n",
              "    .dataframe tbody tr th {\n",
              "        vertical-align: top;\n",
              "    }\n",
              "\n",
              "    .dataframe thead th {\n",
              "        text-align: right;\n",
              "    }\n",
              "</style>\n",
              "<table border=\"1\" class=\"dataframe\">\n",
              "  <thead>\n",
              "    <tr style=\"text-align: right;\">\n",
              "      <th></th>\n",
              "      <th>car_ID</th>\n",
              "      <th>symboling</th>\n",
              "      <th>CarName</th>\n",
              "      <th>fueltype</th>\n",
              "      <th>aspiration</th>\n",
              "      <th>doornumber</th>\n",
              "      <th>carbody</th>\n",
              "      <th>drivewheel</th>\n",
              "      <th>enginelocation</th>\n",
              "      <th>wheelbase</th>\n",
              "      <th>...</th>\n",
              "      <th>enginesize</th>\n",
              "      <th>fuelsystem</th>\n",
              "      <th>boreratio</th>\n",
              "      <th>stroke</th>\n",
              "      <th>compressionratio</th>\n",
              "      <th>horsepower</th>\n",
              "      <th>peakrpm</th>\n",
              "      <th>citympg</th>\n",
              "      <th>highwaympg</th>\n",
              "      <th>price</th>\n",
              "    </tr>\n",
              "  </thead>\n",
              "  <tbody>\n",
              "    <tr>\n",
              "      <th>0</th>\n",
              "      <td>1</td>\n",
              "      <td>3</td>\n",
              "      <td>alfa-romero giulia</td>\n",
              "      <td>gas</td>\n",
              "      <td>std</td>\n",
              "      <td>two</td>\n",
              "      <td>convertible</td>\n",
              "      <td>rwd</td>\n",
              "      <td>front</td>\n",
              "      <td>88.6</td>\n",
              "      <td>...</td>\n",
              "      <td>130</td>\n",
              "      <td>mpfi</td>\n",
              "      <td>3.47</td>\n",
              "      <td>2.68</td>\n",
              "      <td>9.0</td>\n",
              "      <td>111</td>\n",
              "      <td>5000</td>\n",
              "      <td>21</td>\n",
              "      <td>27</td>\n",
              "      <td>13495.0</td>\n",
              "    </tr>\n",
              "    <tr>\n",
              "      <th>1</th>\n",
              "      <td>2</td>\n",
              "      <td>3</td>\n",
              "      <td>alfa-romero stelvio</td>\n",
              "      <td>gas</td>\n",
              "      <td>std</td>\n",
              "      <td>two</td>\n",
              "      <td>convertible</td>\n",
              "      <td>rwd</td>\n",
              "      <td>front</td>\n",
              "      <td>88.6</td>\n",
              "      <td>...</td>\n",
              "      <td>130</td>\n",
              "      <td>mpfi</td>\n",
              "      <td>3.47</td>\n",
              "      <td>2.68</td>\n",
              "      <td>9.0</td>\n",
              "      <td>111</td>\n",
              "      <td>5000</td>\n",
              "      <td>21</td>\n",
              "      <td>27</td>\n",
              "      <td>16500.0</td>\n",
              "    </tr>\n",
              "    <tr>\n",
              "      <th>2</th>\n",
              "      <td>3</td>\n",
              "      <td>1</td>\n",
              "      <td>alfa-romero Quadrifoglio</td>\n",
              "      <td>gas</td>\n",
              "      <td>std</td>\n",
              "      <td>two</td>\n",
              "      <td>hatchback</td>\n",
              "      <td>rwd</td>\n",
              "      <td>front</td>\n",
              "      <td>94.5</td>\n",
              "      <td>...</td>\n",
              "      <td>152</td>\n",
              "      <td>mpfi</td>\n",
              "      <td>2.68</td>\n",
              "      <td>3.47</td>\n",
              "      <td>9.0</td>\n",
              "      <td>154</td>\n",
              "      <td>5000</td>\n",
              "      <td>19</td>\n",
              "      <td>26</td>\n",
              "      <td>16500.0</td>\n",
              "    </tr>\n",
              "    <tr>\n",
              "      <th>3</th>\n",
              "      <td>4</td>\n",
              "      <td>2</td>\n",
              "      <td>audi 100 ls</td>\n",
              "      <td>gas</td>\n",
              "      <td>std</td>\n",
              "      <td>four</td>\n",
              "      <td>sedan</td>\n",
              "      <td>fwd</td>\n",
              "      <td>front</td>\n",
              "      <td>99.8</td>\n",
              "      <td>...</td>\n",
              "      <td>109</td>\n",
              "      <td>mpfi</td>\n",
              "      <td>3.19</td>\n",
              "      <td>3.40</td>\n",
              "      <td>10.0</td>\n",
              "      <td>102</td>\n",
              "      <td>5500</td>\n",
              "      <td>24</td>\n",
              "      <td>30</td>\n",
              "      <td>13950.0</td>\n",
              "    </tr>\n",
              "    <tr>\n",
              "      <th>4</th>\n",
              "      <td>5</td>\n",
              "      <td>2</td>\n",
              "      <td>audi 100ls</td>\n",
              "      <td>gas</td>\n",
              "      <td>std</td>\n",
              "      <td>four</td>\n",
              "      <td>sedan</td>\n",
              "      <td>4wd</td>\n",
              "      <td>front</td>\n",
              "      <td>99.4</td>\n",
              "      <td>...</td>\n",
              "      <td>136</td>\n",
              "      <td>mpfi</td>\n",
              "      <td>3.19</td>\n",
              "      <td>3.40</td>\n",
              "      <td>8.0</td>\n",
              "      <td>115</td>\n",
              "      <td>5500</td>\n",
              "      <td>18</td>\n",
              "      <td>22</td>\n",
              "      <td>17450.0</td>\n",
              "    </tr>\n",
              "  </tbody>\n",
              "</table>\n",
              "<p>5 rows × 26 columns</p>\n",
              "</div>\n",
              "      <button class=\"colab-df-convert\" onclick=\"convertToInteractive('df-844b18f2-6e08-478b-9dda-eaa8c13e325d')\"\n",
              "              title=\"Convert this dataframe to an interactive table.\"\n",
              "              style=\"display:none;\">\n",
              "        \n",
              "  <svg xmlns=\"http://www.w3.org/2000/svg\" height=\"24px\"viewBox=\"0 0 24 24\"\n",
              "       width=\"24px\">\n",
              "    <path d=\"M0 0h24v24H0V0z\" fill=\"none\"/>\n",
              "    <path d=\"M18.56 5.44l.94 2.06.94-2.06 2.06-.94-2.06-.94-.94-2.06-.94 2.06-2.06.94zm-11 1L8.5 8.5l.94-2.06 2.06-.94-2.06-.94L8.5 2.5l-.94 2.06-2.06.94zm10 10l.94 2.06.94-2.06 2.06-.94-2.06-.94-.94-2.06-.94 2.06-2.06.94z\"/><path d=\"M17.41 7.96l-1.37-1.37c-.4-.4-.92-.59-1.43-.59-.52 0-1.04.2-1.43.59L10.3 9.45l-7.72 7.72c-.78.78-.78 2.05 0 2.83L4 21.41c.39.39.9.59 1.41.59.51 0 1.02-.2 1.41-.59l7.78-7.78 2.81-2.81c.8-.78.8-2.07 0-2.86zM5.41 20L4 18.59l7.72-7.72 1.47 1.35L5.41 20z\"/>\n",
              "  </svg>\n",
              "      </button>\n",
              "      \n",
              "  <style>\n",
              "    .colab-df-container {\n",
              "      display:flex;\n",
              "      flex-wrap:wrap;\n",
              "      gap: 12px;\n",
              "    }\n",
              "\n",
              "    .colab-df-convert {\n",
              "      background-color: #E8F0FE;\n",
              "      border: none;\n",
              "      border-radius: 50%;\n",
              "      cursor: pointer;\n",
              "      display: none;\n",
              "      fill: #1967D2;\n",
              "      height: 32px;\n",
              "      padding: 0 0 0 0;\n",
              "      width: 32px;\n",
              "    }\n",
              "\n",
              "    .colab-df-convert:hover {\n",
              "      background-color: #E2EBFA;\n",
              "      box-shadow: 0px 1px 2px rgba(60, 64, 67, 0.3), 0px 1px 3px 1px rgba(60, 64, 67, 0.15);\n",
              "      fill: #174EA6;\n",
              "    }\n",
              "\n",
              "    [theme=dark] .colab-df-convert {\n",
              "      background-color: #3B4455;\n",
              "      fill: #D2E3FC;\n",
              "    }\n",
              "\n",
              "    [theme=dark] .colab-df-convert:hover {\n",
              "      background-color: #434B5C;\n",
              "      box-shadow: 0px 1px 3px 1px rgba(0, 0, 0, 0.15);\n",
              "      filter: drop-shadow(0px 1px 2px rgba(0, 0, 0, 0.3));\n",
              "      fill: #FFFFFF;\n",
              "    }\n",
              "  </style>\n",
              "\n",
              "      <script>\n",
              "        const buttonEl =\n",
              "          document.querySelector('#df-844b18f2-6e08-478b-9dda-eaa8c13e325d button.colab-df-convert');\n",
              "        buttonEl.style.display =\n",
              "          google.colab.kernel.accessAllowed ? 'block' : 'none';\n",
              "\n",
              "        async function convertToInteractive(key) {\n",
              "          const element = document.querySelector('#df-844b18f2-6e08-478b-9dda-eaa8c13e325d');\n",
              "          const dataTable =\n",
              "            await google.colab.kernel.invokeFunction('convertToInteractive',\n",
              "                                                     [key], {});\n",
              "          if (!dataTable) return;\n",
              "\n",
              "          const docLinkHtml = 'Like what you see? Visit the ' +\n",
              "            '<a target=\"_blank\" href=https://colab.research.google.com/notebooks/data_table.ipynb>data table notebook</a>'\n",
              "            + ' to learn more about interactive tables.';\n",
              "          element.innerHTML = '';\n",
              "          dataTable['output_type'] = 'display_data';\n",
              "          await google.colab.output.renderOutput(dataTable, element);\n",
              "          const docLink = document.createElement('div');\n",
              "          docLink.innerHTML = docLinkHtml;\n",
              "          element.appendChild(docLink);\n",
              "        }\n",
              "      </script>\n",
              "    </div>\n",
              "  </div>\n",
              "  "
            ]
          },
          "metadata": {},
          "execution_count": 11
        }
      ]
    },
    {
      "cell_type": "code",
      "source": [
        "car.info()"
      ],
      "metadata": {
        "id": "OhugjrVcCuzt",
        "colab": {
          "base_uri": "https://localhost:8080/"
        },
        "outputId": "27144521-0f0e-4e4f-fd30-1bbc798a397c"
      },
      "execution_count": 12,
      "outputs": [
        {
          "output_type": "stream",
          "name": "stdout",
          "text": [
            "<class 'pandas.core.frame.DataFrame'>\n",
            "RangeIndex: 205 entries, 0 to 204\n",
            "Data columns (total 26 columns):\n",
            " #   Column            Non-Null Count  Dtype  \n",
            "---  ------            --------------  -----  \n",
            " 0   car_ID            205 non-null    int64  \n",
            " 1   symboling         205 non-null    int64  \n",
            " 2   CarName           205 non-null    object \n",
            " 3   fueltype          205 non-null    object \n",
            " 4   aspiration        205 non-null    object \n",
            " 5   doornumber        205 non-null    object \n",
            " 6   carbody           205 non-null    object \n",
            " 7   drivewheel        205 non-null    object \n",
            " 8   enginelocation    205 non-null    object \n",
            " 9   wheelbase         205 non-null    float64\n",
            " 10  carlength         205 non-null    float64\n",
            " 11  carwidth          205 non-null    float64\n",
            " 12  carheight         205 non-null    float64\n",
            " 13  curbweight        205 non-null    int64  \n",
            " 14  enginetype        205 non-null    object \n",
            " 15  cylindernumber    205 non-null    object \n",
            " 16  enginesize        205 non-null    int64  \n",
            " 17  fuelsystem        205 non-null    object \n",
            " 18  boreratio         205 non-null    float64\n",
            " 19  stroke            205 non-null    float64\n",
            " 20  compressionratio  205 non-null    float64\n",
            " 21  horsepower        205 non-null    int64  \n",
            " 22  peakrpm           205 non-null    int64  \n",
            " 23  citympg           205 non-null    int64  \n",
            " 24  highwaympg        205 non-null    int64  \n",
            " 25  price             205 non-null    float64\n",
            "dtypes: float64(8), int64(8), object(10)\n",
            "memory usage: 41.8+ KB\n"
          ]
        }
      ]
    },
    {
      "cell_type": "code",
      "source": [
        "car['CarName'].unique()"
      ],
      "metadata": {
        "colab": {
          "base_uri": "https://localhost:8080/"
        },
        "id": "xPmkYl5kDPJF",
        "outputId": "2433606d-7d3b-4292-8d89-547a8706038d"
      },
      "execution_count": 13,
      "outputs": [
        {
          "output_type": "execute_result",
          "data": {
            "text/plain": [
              "array(['alfa-romero giulia', 'alfa-romero stelvio',\n",
              "       'alfa-romero Quadrifoglio', 'audi 100 ls', 'audi 100ls',\n",
              "       'audi fox', 'audi 5000', 'audi 4000', 'audi 5000s (diesel)',\n",
              "       'bmw 320i', 'bmw x1', 'bmw x3', 'bmw z4', 'bmw x4', 'bmw x5',\n",
              "       'chevrolet impala', 'chevrolet monte carlo', 'chevrolet vega 2300',\n",
              "       'dodge rampage', 'dodge challenger se', 'dodge d200',\n",
              "       'dodge monaco (sw)', 'dodge colt hardtop', 'dodge colt (sw)',\n",
              "       'dodge coronet custom', 'dodge dart custom',\n",
              "       'dodge coronet custom (sw)', 'honda civic', 'honda civic cvcc',\n",
              "       'honda accord cvcc', 'honda accord lx', 'honda civic 1500 gl',\n",
              "       'honda accord', 'honda civic 1300', 'honda prelude',\n",
              "       'honda civic (auto)', 'isuzu MU-X', 'isuzu D-Max ',\n",
              "       'isuzu D-Max V-Cross', 'jaguar xj', 'jaguar xf', 'jaguar xk',\n",
              "       'maxda rx3', 'maxda glc deluxe', 'mazda rx2 coupe', 'mazda rx-4',\n",
              "       'mazda glc deluxe', 'mazda 626', 'mazda glc', 'mazda rx-7 gs',\n",
              "       'mazda glc 4', 'mazda glc custom l', 'mazda glc custom',\n",
              "       'buick electra 225 custom', 'buick century luxus (sw)',\n",
              "       'buick century', 'buick skyhawk', 'buick opel isuzu deluxe',\n",
              "       'buick skylark', 'buick century special',\n",
              "       'buick regal sport coupe (turbo)', 'mercury cougar',\n",
              "       'mitsubishi mirage', 'mitsubishi lancer', 'mitsubishi outlander',\n",
              "       'mitsubishi g4', 'mitsubishi mirage g4', 'mitsubishi montero',\n",
              "       'mitsubishi pajero', 'Nissan versa', 'nissan gt-r', 'nissan rogue',\n",
              "       'nissan latio', 'nissan titan', 'nissan leaf', 'nissan juke',\n",
              "       'nissan note', 'nissan clipper', 'nissan nv200', 'nissan dayz',\n",
              "       'nissan fuga', 'nissan otti', 'nissan teana', 'nissan kicks',\n",
              "       'peugeot 504', 'peugeot 304', 'peugeot 504 (sw)', 'peugeot 604sl',\n",
              "       'peugeot 505s turbo diesel', 'plymouth fury iii',\n",
              "       'plymouth cricket', 'plymouth satellite custom (sw)',\n",
              "       'plymouth fury gran sedan', 'plymouth valiant', 'plymouth duster',\n",
              "       'porsche macan', 'porcshce panamera', 'porsche cayenne',\n",
              "       'porsche boxter', 'renault 12tl', 'renault 5 gtl', 'saab 99e',\n",
              "       'saab 99le', 'saab 99gle', 'subaru', 'subaru dl', 'subaru brz',\n",
              "       'subaru baja', 'subaru r1', 'subaru r2', 'subaru trezia',\n",
              "       'subaru tribeca', 'toyota corona mark ii', 'toyota corona',\n",
              "       'toyota corolla 1200', 'toyota corona hardtop',\n",
              "       'toyota corolla 1600 (sw)', 'toyota carina', 'toyota mark ii',\n",
              "       'toyota corolla', 'toyota corolla liftback',\n",
              "       'toyota celica gt liftback', 'toyota corolla tercel',\n",
              "       'toyota corona liftback', 'toyota starlet', 'toyota tercel',\n",
              "       'toyota cressida', 'toyota celica gt', 'toyouta tercel',\n",
              "       'vokswagen rabbit', 'volkswagen 1131 deluxe sedan',\n",
              "       'volkswagen model 111', 'volkswagen type 3', 'volkswagen 411 (sw)',\n",
              "       'volkswagen super beetle', 'volkswagen dasher', 'vw dasher',\n",
              "       'vw rabbit', 'volkswagen rabbit', 'volkswagen rabbit custom',\n",
              "       'volvo 145e (sw)', 'volvo 144ea', 'volvo 244dl', 'volvo 245',\n",
              "       'volvo 264gl', 'volvo diesel', 'volvo 246'], dtype=object)"
            ]
          },
          "metadata": {},
          "execution_count": 13
        }
      ]
    },
    {
      "cell_type": "code",
      "source": [
        "car['carbody'].unique()"
      ],
      "metadata": {
        "colab": {
          "base_uri": "https://localhost:8080/"
        },
        "id": "5C4q1qfzEwYJ",
        "outputId": "1476e4a2-7d1a-4ca1-a34f-733b4f41530a"
      },
      "execution_count": 14,
      "outputs": [
        {
          "output_type": "execute_result",
          "data": {
            "text/plain": [
              "array(['convertible', 'hatchback', 'sedan', 'wagon', 'hardtop'],\n",
              "      dtype=object)"
            ]
          },
          "metadata": {},
          "execution_count": 14
        }
      ]
    },
    {
      "cell_type": "code",
      "source": [
        "car[car['carbody']=='sedan'].groupby('carbody').describe()"
      ],
      "metadata": {
        "colab": {
          "base_uri": "https://localhost:8080/",
          "height": 237
        },
        "id": "A_Sl11WmGkEv",
        "outputId": "ad53cb69-7695-43a7-d07e-7a043eb3fcda"
      },
      "execution_count": 15,
      "outputs": [
        {
          "output_type": "execute_result",
          "data": {
            "text/plain": [
              "        car_ID                                                         \\\n",
              "         count        mean        std  min    25%   50%    75%    max   \n",
              "carbody                                                                 \n",
              "sedan     96.0  102.072917  63.783226  4.0  45.75  96.0  161.5  205.0   \n",
              "\n",
              "        symboling            ... highwaympg       price                \\\n",
              "            count      mean  ...        75%   max count          mean   \n",
              "carbody                      ...                                        \n",
              "sedan        96.0  0.333333  ...      36.25  50.0  96.0  14344.270833   \n",
              "\n",
              "                                                                  \n",
              "                 std     min      25%      50%      75%      max  \n",
              "carbody                                                           \n",
              "sedan    8470.487812  5499.0  8042.25  10846.5  17770.0  41315.0  \n",
              "\n",
              "[1 rows x 128 columns]"
            ],
            "text/html": [
              "\n",
              "  <div id=\"df-5a178604-529e-4b8e-9e1d-ae6f97d9678d\">\n",
              "    <div class=\"colab-df-container\">\n",
              "      <div>\n",
              "<style scoped>\n",
              "    .dataframe tbody tr th:only-of-type {\n",
              "        vertical-align: middle;\n",
              "    }\n",
              "\n",
              "    .dataframe tbody tr th {\n",
              "        vertical-align: top;\n",
              "    }\n",
              "\n",
              "    .dataframe thead tr th {\n",
              "        text-align: left;\n",
              "    }\n",
              "\n",
              "    .dataframe thead tr:last-of-type th {\n",
              "        text-align: right;\n",
              "    }\n",
              "</style>\n",
              "<table border=\"1\" class=\"dataframe\">\n",
              "  <thead>\n",
              "    <tr>\n",
              "      <th></th>\n",
              "      <th colspan=\"8\" halign=\"left\">car_ID</th>\n",
              "      <th colspan=\"2\" halign=\"left\">symboling</th>\n",
              "      <th>...</th>\n",
              "      <th colspan=\"2\" halign=\"left\">highwaympg</th>\n",
              "      <th colspan=\"8\" halign=\"left\">price</th>\n",
              "    </tr>\n",
              "    <tr>\n",
              "      <th></th>\n",
              "      <th>count</th>\n",
              "      <th>mean</th>\n",
              "      <th>std</th>\n",
              "      <th>min</th>\n",
              "      <th>25%</th>\n",
              "      <th>50%</th>\n",
              "      <th>75%</th>\n",
              "      <th>max</th>\n",
              "      <th>count</th>\n",
              "      <th>mean</th>\n",
              "      <th>...</th>\n",
              "      <th>75%</th>\n",
              "      <th>max</th>\n",
              "      <th>count</th>\n",
              "      <th>mean</th>\n",
              "      <th>std</th>\n",
              "      <th>min</th>\n",
              "      <th>25%</th>\n",
              "      <th>50%</th>\n",
              "      <th>75%</th>\n",
              "      <th>max</th>\n",
              "    </tr>\n",
              "    <tr>\n",
              "      <th>carbody</th>\n",
              "      <th></th>\n",
              "      <th></th>\n",
              "      <th></th>\n",
              "      <th></th>\n",
              "      <th></th>\n",
              "      <th></th>\n",
              "      <th></th>\n",
              "      <th></th>\n",
              "      <th></th>\n",
              "      <th></th>\n",
              "      <th></th>\n",
              "      <th></th>\n",
              "      <th></th>\n",
              "      <th></th>\n",
              "      <th></th>\n",
              "      <th></th>\n",
              "      <th></th>\n",
              "      <th></th>\n",
              "      <th></th>\n",
              "      <th></th>\n",
              "      <th></th>\n",
              "    </tr>\n",
              "  </thead>\n",
              "  <tbody>\n",
              "    <tr>\n",
              "      <th>sedan</th>\n",
              "      <td>96.0</td>\n",
              "      <td>102.072917</td>\n",
              "      <td>63.783226</td>\n",
              "      <td>4.0</td>\n",
              "      <td>45.75</td>\n",
              "      <td>96.0</td>\n",
              "      <td>161.5</td>\n",
              "      <td>205.0</td>\n",
              "      <td>96.0</td>\n",
              "      <td>0.333333</td>\n",
              "      <td>...</td>\n",
              "      <td>36.25</td>\n",
              "      <td>50.0</td>\n",
              "      <td>96.0</td>\n",
              "      <td>14344.270833</td>\n",
              "      <td>8470.487812</td>\n",
              "      <td>5499.0</td>\n",
              "      <td>8042.25</td>\n",
              "      <td>10846.5</td>\n",
              "      <td>17770.0</td>\n",
              "      <td>41315.0</td>\n",
              "    </tr>\n",
              "  </tbody>\n",
              "</table>\n",
              "<p>1 rows × 128 columns</p>\n",
              "</div>\n",
              "      <button class=\"colab-df-convert\" onclick=\"convertToInteractive('df-5a178604-529e-4b8e-9e1d-ae6f97d9678d')\"\n",
              "              title=\"Convert this dataframe to an interactive table.\"\n",
              "              style=\"display:none;\">\n",
              "        \n",
              "  <svg xmlns=\"http://www.w3.org/2000/svg\" height=\"24px\"viewBox=\"0 0 24 24\"\n",
              "       width=\"24px\">\n",
              "    <path d=\"M0 0h24v24H0V0z\" fill=\"none\"/>\n",
              "    <path d=\"M18.56 5.44l.94 2.06.94-2.06 2.06-.94-2.06-.94-.94-2.06-.94 2.06-2.06.94zm-11 1L8.5 8.5l.94-2.06 2.06-.94-2.06-.94L8.5 2.5l-.94 2.06-2.06.94zm10 10l.94 2.06.94-2.06 2.06-.94-2.06-.94-.94-2.06-.94 2.06-2.06.94z\"/><path d=\"M17.41 7.96l-1.37-1.37c-.4-.4-.92-.59-1.43-.59-.52 0-1.04.2-1.43.59L10.3 9.45l-7.72 7.72c-.78.78-.78 2.05 0 2.83L4 21.41c.39.39.9.59 1.41.59.51 0 1.02-.2 1.41-.59l7.78-7.78 2.81-2.81c.8-.78.8-2.07 0-2.86zM5.41 20L4 18.59l7.72-7.72 1.47 1.35L5.41 20z\"/>\n",
              "  </svg>\n",
              "      </button>\n",
              "      \n",
              "  <style>\n",
              "    .colab-df-container {\n",
              "      display:flex;\n",
              "      flex-wrap:wrap;\n",
              "      gap: 12px;\n",
              "    }\n",
              "\n",
              "    .colab-df-convert {\n",
              "      background-color: #E8F0FE;\n",
              "      border: none;\n",
              "      border-radius: 50%;\n",
              "      cursor: pointer;\n",
              "      display: none;\n",
              "      fill: #1967D2;\n",
              "      height: 32px;\n",
              "      padding: 0 0 0 0;\n",
              "      width: 32px;\n",
              "    }\n",
              "\n",
              "    .colab-df-convert:hover {\n",
              "      background-color: #E2EBFA;\n",
              "      box-shadow: 0px 1px 2px rgba(60, 64, 67, 0.3), 0px 1px 3px 1px rgba(60, 64, 67, 0.15);\n",
              "      fill: #174EA6;\n",
              "    }\n",
              "\n",
              "    [theme=dark] .colab-df-convert {\n",
              "      background-color: #3B4455;\n",
              "      fill: #D2E3FC;\n",
              "    }\n",
              "\n",
              "    [theme=dark] .colab-df-convert:hover {\n",
              "      background-color: #434B5C;\n",
              "      box-shadow: 0px 1px 3px 1px rgba(0, 0, 0, 0.15);\n",
              "      filter: drop-shadow(0px 1px 2px rgba(0, 0, 0, 0.3));\n",
              "      fill: #FFFFFF;\n",
              "    }\n",
              "  </style>\n",
              "\n",
              "      <script>\n",
              "        const buttonEl =\n",
              "          document.querySelector('#df-5a178604-529e-4b8e-9e1d-ae6f97d9678d button.colab-df-convert');\n",
              "        buttonEl.style.display =\n",
              "          google.colab.kernel.accessAllowed ? 'block' : 'none';\n",
              "\n",
              "        async function convertToInteractive(key) {\n",
              "          const element = document.querySelector('#df-5a178604-529e-4b8e-9e1d-ae6f97d9678d');\n",
              "          const dataTable =\n",
              "            await google.colab.kernel.invokeFunction('convertToInteractive',\n",
              "                                                     [key], {});\n",
              "          if (!dataTable) return;\n",
              "\n",
              "          const docLinkHtml = 'Like what you see? Visit the ' +\n",
              "            '<a target=\"_blank\" href=https://colab.research.google.com/notebooks/data_table.ipynb>data table notebook</a>'\n",
              "            + ' to learn more about interactive tables.';\n",
              "          element.innerHTML = '';\n",
              "          dataTable['output_type'] = 'display_data';\n",
              "          await google.colab.output.renderOutput(dataTable, element);\n",
              "          const docLink = document.createElement('div');\n",
              "          docLink.innerHTML = docLinkHtml;\n",
              "          element.appendChild(docLink);\n",
              "        }\n",
              "      </script>\n",
              "    </div>\n",
              "  </div>\n",
              "  "
            ]
          },
          "metadata": {},
          "execution_count": 15
        }
      ]
    },
    {
      "cell_type": "code",
      "source": [
        "car.loc[200]"
      ],
      "metadata": {
        "colab": {
          "base_uri": "https://localhost:8080/"
        },
        "id": "BIYjyCF3HgCr",
        "outputId": "1d9dcc1a-512b-4641-ccec-f5af8a69ce52"
      },
      "execution_count": 16,
      "outputs": [
        {
          "output_type": "execute_result",
          "data": {
            "text/plain": [
              "car_ID                          201\n",
              "symboling                        -1\n",
              "CarName             volvo 145e (sw)\n",
              "fueltype                        gas\n",
              "aspiration                      std\n",
              "doornumber                     four\n",
              "carbody                       sedan\n",
              "drivewheel                      rwd\n",
              "enginelocation                front\n",
              "wheelbase                     109.1\n",
              "carlength                     188.8\n",
              "carwidth                       68.9\n",
              "carheight                      55.5\n",
              "curbweight                     2952\n",
              "enginetype                      ohc\n",
              "cylindernumber                 four\n",
              "enginesize                      141\n",
              "fuelsystem                     mpfi\n",
              "boreratio                      3.78\n",
              "stroke                         3.15\n",
              "compressionratio                9.5\n",
              "horsepower                      114\n",
              "peakrpm                        5400\n",
              "citympg                          23\n",
              "highwaympg                       28\n",
              "price                       16845.0\n",
              "Name: 200, dtype: object"
            ]
          },
          "metadata": {},
          "execution_count": 16
        }
      ]
    },
    {
      "cell_type": "markdown",
      "source": [
        "Checks for emptiness and cleanse data"
      ],
      "metadata": {
        "id": "D6BqCBzZCDHb"
      }
    },
    {
      "cell_type": "code",
      "source": [
        "car.isna().sum()"
      ],
      "metadata": {
        "colab": {
          "base_uri": "https://localhost:8080/"
        },
        "id": "97hgy2VQBvH7",
        "outputId": "012277cc-c260-4d6c-b79f-f3f399892fc5"
      },
      "execution_count": 17,
      "outputs": [
        {
          "output_type": "execute_result",
          "data": {
            "text/plain": [
              "car_ID              0\n",
              "symboling           0\n",
              "CarName             0\n",
              "fueltype            0\n",
              "aspiration          0\n",
              "doornumber          0\n",
              "carbody             0\n",
              "drivewheel          0\n",
              "enginelocation      0\n",
              "wheelbase           0\n",
              "carlength           0\n",
              "carwidth            0\n",
              "carheight           0\n",
              "curbweight          0\n",
              "enginetype          0\n",
              "cylindernumber      0\n",
              "enginesize          0\n",
              "fuelsystem          0\n",
              "boreratio           0\n",
              "stroke              0\n",
              "compressionratio    0\n",
              "horsepower          0\n",
              "peakrpm             0\n",
              "citympg             0\n",
              "highwaympg          0\n",
              "price               0\n",
              "dtype: int64"
            ]
          },
          "metadata": {},
          "execution_count": 17
        }
      ]
    },
    {
      "cell_type": "markdown",
      "source": [
        "Plotting two EDA graphs "
      ],
      "metadata": {
        "id": "2ji-QAsDCRY-"
      }
    },
    {
      "cell_type": "code",
      "source": [
        "sns.distplot(car['stroke'], kde=True);"
      ],
      "metadata": {
        "colab": {
          "base_uri": "https://localhost:8080/",
          "height": 334
        },
        "id": "1Ra8SxzYCHSz",
        "outputId": "41865d45-3ff1-4922-ec04-e4836b4bca8e"
      },
      "execution_count": 18,
      "outputs": [
        {
          "output_type": "stream",
          "name": "stderr",
          "text": [
            "/usr/local/lib/python3.7/dist-packages/seaborn/distributions.py:2619: FutureWarning: `distplot` is a deprecated function and will be removed in a future version. Please adapt your code to use either `displot` (a figure-level function with similar flexibility) or `histplot` (an axes-level function for histograms).\n",
            "  warnings.warn(msg, FutureWarning)\n"
          ]
        },
        {
          "output_type": "display_data",
          "data": {
            "text/plain": [
              "<Figure size 432x288 with 1 Axes>"
            ],
            "image/png": "[encoded data removed]"
          },
          "metadata": {
            "needs_background": "light"
          }
        }
      ]
    },
    {
      "cell_type": "code",
      "source": [
        "sns.distplot(car['price'],hist=True)"
      ],
      "metadata": {
        "id": "e1CaMcsuH3Jp",
        "colab": {
          "base_uri": "https://localhost:8080/",
          "height": 351
        },
        "outputId": "3641b75d-ccf7-4bee-c949-ab976b5de58a"
      },
      "execution_count": 20,
      "outputs": [
        {
          "output_type": "stream",
          "name": "stderr",
          "text": [
            "/usr/local/lib/python3.7/dist-packages/seaborn/distributions.py:2619: FutureWarning: `distplot` is a deprecated function and will be removed in a future version. Please adapt your code to use either `displot` (a figure-level function with similar flexibility) or `histplot` (an axes-level function for histograms).\n",
            "  warnings.warn(msg, FutureWarning)\n"
          ]
        },
        {
          "output_type": "execute_result",
          "data": {
            "text/plain": [
              "<matplotlib.axes._subplots.AxesSubplot at 0x7f70729d2f90>"
            ]
          },
          "metadata": {},
          "execution_count": 20
        },
        {
          "output_type": "display_data",
          "data": {
            "text/plain": [
              "<Figure size 432x288 with 1 Axes>"
            ],
            "image/png": "[encoded data removed]"
          },
          "metadata": {
            "needs_background": "light"
          }
        }
      ]
    },
    {
      "cell_type": "code",
      "source": [
        "corr=car.corr()\n",
        "fig, ax = plt.subplots(figsize=(10,10))\n",
        "sns.heatmap(corr,cmap='Wistia',annot=True,linewidths=.5);"
      ],
      "metadata": {
        "colab": {
          "base_uri": "https://localhost:8080/",
          "height": 672
        },
        "id": "sPPOSzp3Q9a2",
        "outputId": "153e11fc-78fe-4a49-b983-fb4224d9eebc"
      },
      "execution_count": 21,
      "outputs": [
        {
          "output_type": "display_data",
          "data": {
            "text/plain": [
              "<Figure size 720x720 with 2 Axes>"
            ],
            "image/png": "[encoded data removed]"
          },
          "metadata": {
            "needs_background": "light"
          }
        }
      ]
    },
    {
      "cell_type": "markdown",
      "source": [
        "Preparing the model"
      ],
      "metadata": {
        "id": "z8nmZzQWRVyB"
      }
    },
    {
      "cell_type": "code",
      "source": [
        "car.drop([\"car_ID\",\"symboling\",\"CarName\"], axis=1, inplace=True)"
      ],
      "metadata": {
        "id": "hiC5DcAZRMAg"
      },
      "execution_count": 23,
      "outputs": []
    },
    {
      "cell_type": "code",
      "source": [
        "car.head()"
      ],
      "metadata": {
        "colab": {
          "base_uri": "https://localhost:8080/",
          "height": 300
        },
        "id": "9T7Sgz58RXJ6",
        "outputId": "dcfbf453-dadc-4b54-e898-60f09d58e3ba"
      },
      "execution_count": 26,
      "outputs": [
        {
          "output_type": "execute_result",
          "data": {
            "text/plain": [
              "  fueltype aspiration doornumber      carbody drivewheel enginelocation  \\\n",
              "0      gas        std        two  convertible        rwd          front   \n",
              "1      gas        std        two  convertible        rwd          front   \n",
              "2      gas        std        two    hatchback        rwd          front   \n",
              "3      gas        std       four        sedan        fwd          front   \n",
              "4      gas        std       four        sedan        4wd          front   \n",
              "\n",
              "   wheelbase  carlength  carwidth  carheight  ...  enginesize fuelsystem  \\\n",
              "0       88.6      168.8      64.1       48.8  ...         130       mpfi   \n",
              "1       88.6      168.8      64.1       48.8  ...         130       mpfi   \n",
              "2       94.5      171.2      65.5       52.4  ...         152       mpfi   \n",
              "3       99.8      176.6      66.2       54.3  ...         109       mpfi   \n",
              "4       99.4      176.6      66.4       54.3  ...         136       mpfi   \n",
              "\n",
              "  boreratio  stroke compressionratio  horsepower  peakrpm  citympg  \\\n",
              "0      3.47    2.68              9.0         111     5000       21   \n",
              "1      3.47    2.68              9.0         111     5000       21   \n",
              "2      2.68    3.47              9.0         154     5000       19   \n",
              "3      3.19    3.40             10.0         102     5500       24   \n",
              "4      3.19    3.40              8.0         115     5500       18   \n",
              "\n",
              "   highwaympg    price  \n",
              "0          27  13495.0  \n",
              "1          27  16500.0  \n",
              "2          26  16500.0  \n",
              "3          30  13950.0  \n",
              "4          22  17450.0  \n",
              "\n",
              "[5 rows x 23 columns]"
            ],
            "text/html": [
              "\n",
              "  <div id=\"df-8c07bb92-93b3-4ac4-8f97-a96497ffa22a\">\n",
              "    <div class=\"colab-df-container\">\n",
              "      <div>\n",
              "<style scoped>\n",
              "    .dataframe tbody tr th:only-of-type {\n",
              "        vertical-align: middle;\n",
              "    }\n",
              "\n",
              "    .dataframe tbody tr th {\n",
              "        vertical-align: top;\n",
              "    }\n",
              "\n",
              "    .dataframe thead th {\n",
              "        text-align: right;\n",
              "    }\n",
              "</style>\n",
              "<table border=\"1\" class=\"dataframe\">\n",
              "  <thead>\n",
              "    <tr style=\"text-align: right;\">\n",
              "      <th></th>\n",
              "      <th>fueltype</th>\n",
              "      <th>aspiration</th>\n",
              "      <th>doornumber</th>\n",
              "      <th>carbody</th>\n",
              "      <th>drivewheel</th>\n",
              "      <th>enginelocation</th>\n",
              "      <th>wheelbase</th>\n",
              "      <th>carlength</th>\n",
              "      <th>carwidth</th>\n",
              "      <th>carheight</th>\n",
              "      <th>...</th>\n",
              "      <th>enginesize</th>\n",
              "      <th>fuelsystem</th>\n",
              "      <th>boreratio</th>\n",
              "      <th>stroke</th>\n",
              "      <th>compressionratio</th>\n",
              "      <th>horsepower</th>\n",
              "      <th>peakrpm</th>\n",
              "      <th>citympg</th>\n",
              "      <th>highwaympg</th>\n",
              "      <th>price</th>\n",
              "    </tr>\n",
              "  </thead>\n",
              "  <tbody>\n",
              "    <tr>\n",
              "      <th>0</th>\n",
              "      <td>gas</td>\n",
              "      <td>std</td>\n",
              "      <td>two</td>\n",
              "      <td>convertible</td>\n",
              "      <td>rwd</td>\n",
              "      <td>front</td>\n",
              "      <td>88.6</td>\n",
              "      <td>168.8</td>\n",
              "      <td>64.1</td>\n",
              "      <td>48.8</td>\n",
              "      <td>...</td>\n",
              "      <td>130</td>\n",
              "      <td>mpfi</td>\n",
              "      <td>3.47</td>\n",
              "      <td>2.68</td>\n",
              "      <td>9.0</td>\n",
              "      <td>111</td>\n",
              "      <td>5000</td>\n",
              "      <td>21</td>\n",
              "      <td>27</td>\n",
              "      <td>13495.0</td>\n",
              "    </tr>\n",
              "    <tr>\n",
              "      <th>1</th>\n",
              "      <td>gas</td>\n",
              "      <td>std</td>\n",
              "      <td>two</td>\n",
              "      <td>convertible</td>\n",
              "      <td>rwd</td>\n",
              "      <td>front</td>\n",
              "      <td>88.6</td>\n",
              "      <td>168.8</td>\n",
              "      <td>64.1</td>\n",
              "      <td>48.8</td>\n",
              "      <td>...</td>\n",
              "      <td>130</td>\n",
              "      <td>mpfi</td>\n",
              "      <td>3.47</td>\n",
              "      <td>2.68</td>\n",
              "      <td>9.0</td>\n",
              "      <td>111</td>\n",
              "      <td>5000</td>\n",
              "      <td>21</td>\n",
              "      <td>27</td>\n",
              "      <td>16500.0</td>\n",
              "    </tr>\n",
              "    <tr>\n",
              "      <th>2</th>\n",
              "      <td>gas</td>\n",
              "      <td>std</td>\n",
              "      <td>two</td>\n",
              "      <td>hatchback</td>\n",
              "      <td>rwd</td>\n",
              "      <td>front</td>\n",
              "      <td>94.5</td>\n",
              "      <td>171.2</td>\n",
              "      <td>65.5</td>\n",
              "      <td>52.4</td>\n",
              "      <td>...</td>\n",
              "      <td>152</td>\n",
              "      <td>mpfi</td>\n",
              "      <td>2.68</td>\n",
              "      <td>3.47</td>\n",
              "      <td>9.0</td>\n",
              "      <td>154</td>\n",
              "      <td>5000</td>\n",
              "      <td>19</td>\n",
              "      <td>26</td>\n",
              "      <td>16500.0</td>\n",
              "    </tr>\n",
              "    <tr>\n",
              "      <th>3</th>\n",
              "      <td>gas</td>\n",
              "      <td>std</td>\n",
              "      <td>four</td>\n",
              "      <td>sedan</td>\n",
              "      <td>fwd</td>\n",
              "      <td>front</td>\n",
              "      <td>99.8</td>\n",
              "      <td>176.6</td>\n",
              "      <td>66.2</td>\n",
              "      <td>54.3</td>\n",
              "      <td>...</td>\n",
              "      <td>109</td>\n",
              "      <td>mpfi</td>\n",
              "      <td>3.19</td>\n",
              "      <td>3.40</td>\n",
              "      <td>10.0</td>\n",
              "      <td>102</td>\n",
              "      <td>5500</td>\n",
              "      <td>24</td>\n",
              "      <td>30</td>\n",
              "      <td>13950.0</td>\n",
              "    </tr>\n",
              "    <tr>\n",
              "      <th>4</th>\n",
              "      <td>gas</td>\n",
              "      <td>std</td>\n",
              "      <td>four</td>\n",
              "      <td>sedan</td>\n",
              "      <td>4wd</td>\n",
              "      <td>front</td>\n",
              "      <td>99.4</td>\n",
              "      <td>176.6</td>\n",
              "      <td>66.4</td>\n",
              "      <td>54.3</td>\n",
              "      <td>...</td>\n",
              "      <td>136</td>\n",
              "      <td>mpfi</td>\n",
              "      <td>3.19</td>\n",
              "      <td>3.40</td>\n",
              "      <td>8.0</td>\n",
              "      <td>115</td>\n",
              "      <td>5500</td>\n",
              "      <td>18</td>\n",
              "      <td>22</td>\n",
              "      <td>17450.0</td>\n",
              "    </tr>\n",
              "  </tbody>\n",
              "</table>\n",
              "<p>5 rows × 23 columns</p>\n",
              "</div>\n",
              "      <button class=\"colab-df-convert\" onclick=\"convertToInteractive('df-8c07bb92-93b3-4ac4-8f97-a96497ffa22a')\"\n",
              "              title=\"Convert this dataframe to an interactive table.\"\n",
              "              style=\"display:none;\">\n",
              "        \n",
              "  <svg xmlns=\"http://www.w3.org/2000/svg\" height=\"24px\"viewBox=\"0 0 24 24\"\n",
              "       width=\"24px\">\n",
              "    <path d=\"M0 0h24v24H0V0z\" fill=\"none\"/>\n",
              "    <path d=\"M18.56 5.44l.94 2.06.94-2.06 2.06-.94-2.06-.94-.94-2.06-.94 2.06-2.06.94zm-11 1L8.5 8.5l.94-2.06 2.06-.94-2.06-.94L8.5 2.5l-.94 2.06-2.06.94zm10 10l.94 2.06.94-2.06 2.06-.94-2.06-.94-.94-2.06-.94 2.06-2.06.94z\"/><path d=\"M17.41 7.96l-1.37-1.37c-.4-.4-.92-.59-1.43-.59-.52 0-1.04.2-1.43.59L10.3 9.45l-7.72 7.72c-.78.78-.78 2.05 0 2.83L4 21.41c.39.39.9.59 1.41.59.51 0 1.02-.2 1.41-.59l7.78-7.78 2.81-2.81c.8-.78.8-2.07 0-2.86zM5.41 20L4 18.59l7.72-7.72 1.47 1.35L5.41 20z\"/>\n",
              "  </svg>\n",
              "      </button>\n",
              "      \n",
              "  <style>\n",
              "    .colab-df-container {\n",
              "      display:flex;\n",
              "      flex-wrap:wrap;\n",
              "      gap: 12px;\n",
              "    }\n",
              "\n",
              "    .colab-df-convert {\n",
              "      background-color: #E8F0FE;\n",
              "      border: none;\n",
              "      border-radius: 50%;\n",
              "      cursor: pointer;\n",
              "      display: none;\n",
              "      fill: #1967D2;\n",
              "      height: 32px;\n",
              "      padding: 0 0 0 0;\n",
              "      width: 32px;\n",
              "    }\n",
              "\n",
              "    .colab-df-convert:hover {\n",
              "      background-color: #E2EBFA;\n",
              "      box-shadow: 0px 1px 2px rgba(60, 64, 67, 0.3), 0px 1px 3px 1px rgba(60, 64, 67, 0.15);\n",
              "      fill: #174EA6;\n",
              "    }\n",
              "\n",
              "    [theme=dark] .colab-df-convert {\n",
              "      background-color: #3B4455;\n",
              "      fill: #D2E3FC;\n",
              "    }\n",
              "\n",
              "    [theme=dark] .colab-df-convert:hover {\n",
              "      background-color: #434B5C;\n",
              "      box-shadow: 0px 1px 3px 1px rgba(0, 0, 0, 0.15);\n",
              "      filter: drop-shadow(0px 1px 2px rgba(0, 0, 0, 0.3));\n",
              "      fill: #FFFFFF;\n",
              "    }\n",
              "  </style>\n",
              "\n",
              "      <script>\n",
              "        const buttonEl =\n",
              "          document.querySelector('#df-8c07bb92-93b3-4ac4-8f97-a96497ffa22a button.colab-df-convert');\n",
              "        buttonEl.style.display =\n",
              "          google.colab.kernel.accessAllowed ? 'block' : 'none';\n",
              "\n",
              "        async function convertToInteractive(key) {\n",
              "          const element = document.querySelector('#df-8c07bb92-93b3-4ac4-8f97-a96497ffa22a');\n",
              "          const dataTable =\n",
              "            await google.colab.kernel.invokeFunction('convertToInteractive',\n",
              "                                                     [key], {});\n",
              "          if (!dataTable) return;\n",
              "\n",
              "          const docLinkHtml = 'Like what you see? Visit the ' +\n",
              "            '<a target=\"_blank\" href=https://colab.research.google.com/notebooks/data_table.ipynb>data table notebook</a>'\n",
              "            + ' to learn more about interactive tables.';\n",
              "          element.innerHTML = '';\n",
              "          dataTable['output_type'] = 'display_data';\n",
              "          await google.colab.output.renderOutput(dataTable, element);\n",
              "          const docLink = document.createElement('div');\n",
              "          docLink.innerHTML = docLinkHtml;\n",
              "          element.appendChild(docLink);\n",
              "        }\n",
              "      </script>\n",
              "    </div>\n",
              "  </div>\n",
              "  "
            ]
          },
          "metadata": {},
          "execution_count": 26
        }
      ]
    },
    {
      "cell_type": "markdown",
      "source": [
        "Assigning the dummies"
      ],
      "metadata": {
        "id": "VVCruRUrRqii"
      }
    },
    {
      "cell_type": "code",
      "source": [
        "car = pd.get_dummies(car, columns= [\"drivewheel\"], drop_first=True)"
      ],
      "metadata": {
        "id": "6Y3H5PFfRh3b"
      },
      "execution_count": 27,
      "outputs": []
    },
    {
      "cell_type": "code",
      "source": [
        "car = pd.get_dummies(car, columns= [\"doornumber\"], drop_first=True)"
      ],
      "metadata": {
        "id": "mMV7Vs4ER0Um"
      },
      "execution_count": 28,
      "outputs": []
    },
    {
      "cell_type": "code",
      "source": [
        "car = pd.get_dummies(car, columns= [\"cylindernumber\"], drop_first=True)"
      ],
      "metadata": {
        "id": "_in_limBR5mz"
      },
      "execution_count": 29,
      "outputs": []
    },
    {
      "cell_type": "code",
      "source": [
        "car = pd.get_dummies(car, columns= [\"fueltype\"], drop_first=True)"
      ],
      "metadata": {
        "id": "w--mt9AfR-fU"
      },
      "execution_count": 30,
      "outputs": []
    },
    {
      "cell_type": "code",
      "source": [
        "car = pd.get_dummies(car, columns= [\"aspiration\"], drop_first=True)"
      ],
      "metadata": {
        "id": "8iQ-hTRbSCvd"
      },
      "execution_count": 31,
      "outputs": []
    },
    {
      "cell_type": "code",
      "source": [
        "car = pd.get_dummies(car, columns= [\"carbody\"], drop_first=True)"
      ],
      "metadata": {
        "id": "R9phF2G8SP2a"
      },
      "execution_count": 32,
      "outputs": []
    },
    {
      "cell_type": "code",
      "source": [
        "car = pd.get_dummies(car, columns= [\"enginelocation\"], drop_first=True)"
      ],
      "metadata": {
        "id": "f37zCEgqSURr"
      },
      "execution_count": 33,
      "outputs": []
    },
    {
      "cell_type": "code",
      "source": [
        "car = pd.get_dummies(car, columns= [\"enginetype\"], drop_first=True)"
      ],
      "metadata": {
        "id": "9cTg3aH5SZIp"
      },
      "execution_count": 34,
      "outputs": []
    },
    {
      "cell_type": "code",
      "source": [
        "car = pd.get_dummies(car, columns= [\"fuelsystem\"], drop_first=True)"
      ],
      "metadata": {
        "id": "Ip-n5MebSd2S"
      },
      "execution_count": 35,
      "outputs": []
    },
    {
      "cell_type": "markdown",
      "source": [
        "**Importing Library**"
      ],
      "metadata": {
        "id": "RldNsEIsTTpc"
      }
    },
    {
      "cell_type": "code",
      "source": [
        "from sklearn.model_selection import train_test_split"
      ],
      "metadata": {
        "id": "e2_seCL7TR-L"
      },
      "execution_count": 41,
      "outputs": []
    },
    {
      "cell_type": "code",
      "source": [
        "X=car.drop(\"price\", axis=1)\n",
        "Y=car[\"price\"]"
      ],
      "metadata": {
        "id": "Wyc6ZHj8SiHi"
      },
      "execution_count": 36,
      "outputs": []
    },
    {
      "cell_type": "code",
      "source": [
        "print(X)"
      ],
      "metadata": {
        "colab": {
          "base_uri": "https://localhost:8080/"
        },
        "id": "7PGfVzElS7Dd",
        "outputId": "923d3db2-34f8-46ed-fda9-02aacfbd08df"
      },
      "execution_count": 39,
      "outputs": [
        {
          "output_type": "stream",
          "name": "stdout",
          "text": [
            "     wheelbase  carlength  carwidth  carheight  curbweight  enginesize  \\\n",
            "0         88.6      168.8      64.1       48.8        2548         130   \n",
            "1         88.6      168.8      64.1       48.8        2548         130   \n",
            "2         94.5      171.2      65.5       52.4        2823         152   \n",
            "3         99.8      176.6      66.2       54.3        2337         109   \n",
            "4         99.4      176.6      66.4       54.3        2824         136   \n",
            "..         ...        ...       ...        ...         ...         ...   \n",
            "200      109.1      188.8      68.9       55.5        2952         141   \n",
            "201      109.1      188.8      68.8       55.5        3049         141   \n",
            "202      109.1      188.8      68.9       55.5        3012         173   \n",
            "203      109.1      188.8      68.9       55.5        3217         145   \n",
            "204      109.1      188.8      68.9       55.5        3062         141   \n",
            "\n",
            "     boreratio  stroke  compressionratio  horsepower  ...  enginetype_ohcf  \\\n",
            "0         3.47    2.68               9.0         111  ...                0   \n",
            "1         3.47    2.68               9.0         111  ...                0   \n",
            "2         2.68    3.47               9.0         154  ...                0   \n",
            "3         3.19    3.40              10.0         102  ...                0   \n",
            "4         3.19    3.40               8.0         115  ...                0   \n",
            "..         ...     ...               ...         ...  ...              ...   \n",
            "200       3.78    3.15               9.5         114  ...                0   \n",
            "201       3.78    3.15               8.7         160  ...                0   \n",
            "202       3.58    2.87               8.8         134  ...                0   \n",
            "203       3.01    3.40              23.0         106  ...                0   \n",
            "204       3.78    3.15               9.5         114  ...                0   \n",
            "\n",
            "     enginetype_ohcv  enginetype_rotor  fuelsystem_2bbl  fuelsystem_4bbl  \\\n",
            "0                  0                 0                0                0   \n",
            "1                  0                 0                0                0   \n",
            "2                  1                 0                0                0   \n",
            "3                  0                 0                0                0   \n",
            "4                  0                 0                0                0   \n",
            "..               ...               ...              ...              ...   \n",
            "200                0                 0                0                0   \n",
            "201                0                 0                0                0   \n",
            "202                1                 0                0                0   \n",
            "203                0                 0                0                0   \n",
            "204                0                 0                0                0   \n",
            "\n",
            "     fuelsystem_idi  fuelsystem_mfi  fuelsystem_mpfi  fuelsystem_spdi  \\\n",
            "0                 0               0                1                0   \n",
            "1                 0               0                1                0   \n",
            "2                 0               0                1                0   \n",
            "3                 0               0                1                0   \n",
            "4                 0               0                1                0   \n",
            "..              ...             ...              ...              ...   \n",
            "200               0               0                1                0   \n",
            "201               0               0                1                0   \n",
            "202               0               0                1                0   \n",
            "203               1               0                0                0   \n",
            "204               0               0                1                0   \n",
            "\n",
            "     fuelsystem_spfi  \n",
            "0                  0  \n",
            "1                  0  \n",
            "2                  0  \n",
            "3                  0  \n",
            "4                  0  \n",
            "..               ...  \n",
            "200                0  \n",
            "201                0  \n",
            "202                0  \n",
            "203                0  \n",
            "204                0  \n",
            "\n",
            "[205 rows x 42 columns]\n"
          ]
        }
      ]
    },
    {
      "cell_type": "code",
      "source": [
        "print(Y)"
      ],
      "metadata": {
        "colab": {
          "base_uri": "https://localhost:8080/"
        },
        "id": "9xXJ_8ooS-Ic",
        "outputId": "2b981bf2-f1d1-4bf7-9dcb-39841c3b9ef3"
      },
      "execution_count": 38,
      "outputs": [
        {
          "output_type": "stream",
          "name": "stdout",
          "text": [
            "0      13495.0\n",
            "1      16500.0\n",
            "2      16500.0\n",
            "3      13950.0\n",
            "4      17450.0\n",
            "        ...   \n",
            "200    16845.0\n",
            "201    19045.0\n",
            "202    21485.0\n",
            "203    22470.0\n",
            "204    22625.0\n",
            "Name: price, Length: 205, dtype: float64\n"
          ]
        }
      ]
    },
    {
      "cell_type": "markdown",
      "source": [
        "**Spliting the training and Testing data**"
      ],
      "metadata": {
        "id": "OKBz0HHaTaK5"
      }
    },
    {
      "cell_type": "code",
      "source": [
        "test_size = 0.25\n",
        "X_train, X_test, Y_train, Y_test = train_test_split(X, Y, test_size = test_size, random_state = 20)"
      ],
      "metadata": {
        "id": "a3OY1x9ETCcz"
      },
      "execution_count": 42,
      "outputs": []
    },
    {
      "cell_type": "markdown",
      "source": [
        "**Printing the shape of training and Testing Data**"
      ],
      "metadata": {
        "id": "h2PvEEkWTkNr"
      }
    },
    {
      "cell_type": "code",
      "source": [
        "print(\"X_train shape {}, len {}.\".format(X_train.shape,len(X_train)))\n",
        "print(\"X_test shape {}, len {}.\".format(X_test.shape,len(X_test)))\n",
        "print(\"Y_train shape {}, len {}.\".format(Y_train.shape,len(Y_train)))\n",
        "print(\"Y_test shape {}, len {}.\".format(Y_test.shape,len(Y_test)))"
      ],
      "metadata": {
        "colab": {
          "base_uri": "https://localhost:8080/"
        },
        "id": "Wo0YJrLMTIzx",
        "outputId": "386abae3-d24e-422f-ea7e-bd613fc915b4"
      },
      "execution_count": 43,
      "outputs": [
        {
          "output_type": "stream",
          "name": "stdout",
          "text": [
            "X_train shape (153, 42), len 153.\n",
            "X_test shape (52, 42), len 52.\n",
            "Y_train shape (153,), len 153.\n",
            "Y_test shape (52,), len 52.\n"
          ]
        }
      ]
    },
    {
      "cell_type": "markdown",
      "source": [
        "**Decision Tree Model Building**"
      ],
      "metadata": {
        "id": "l3Nlj3ayTxdS"
      }
    },
    {
      "cell_type": "code",
      "source": [
        "from sklearn.tree import DecisionTreeRegressor\n",
        "regressor = DecisionTreeRegressor(random_state = 0)"
      ],
      "metadata": {
        "id": "lnjn-49qTuAV"
      },
      "execution_count": 44,
      "outputs": []
    },
    {
      "cell_type": "markdown",
      "source": [
        "**Fitting the Model**"
      ],
      "metadata": {
        "id": "6L8nY-syUB4H"
      }
    },
    {
      "cell_type": "code",
      "source": [
        "regressor.fit(X_train, Y_train)"
      ],
      "metadata": {
        "colab": {
          "base_uri": "https://localhost:8080/"
        },
        "id": "upeeyDW3T6dH",
        "outputId": "9bd0d938-9a05-4377-d832-b57c4e1964af"
      },
      "execution_count": 45,
      "outputs": [
        {
          "output_type": "execute_result",
          "data": {
            "text/plain": [
              "DecisionTreeRegressor(random_state=0)"
            ]
          },
          "metadata": {},
          "execution_count": 45
        }
      ]
    },
    {
      "cell_type": "code",
      "source": [
        "predict = regressor.predict(X_test)\n"
      ],
      "metadata": {
        "id": "WoAkC3wAT9pI"
      },
      "execution_count": 46,
      "outputs": []
    },
    {
      "cell_type": "code",
      "source": [
        "predict"
      ],
      "metadata": {
        "colab": {
          "base_uri": "https://localhost:8080/"
        },
        "id": "m7GRLzb1UNlD",
        "outputId": "61235566-2677-44e3-bc7f-1d1a39afac9d"
      },
      "execution_count": 47,
      "outputs": [
        {
          "output_type": "execute_result",
          "data": {
            "text/plain": [
              "array([13495. ,  8916.5, 15985. , 41315. ,  5348. , 10698. ,  7395. ,\n",
              "       11259. , 16630. , 11900. ,  7150.5,  8845. , 20970. ,  7299. ,\n",
              "        7463. ,  7150.5, 13495. ,  7299. ,  8495. , 18920. , 10595. ,\n",
              "        9095. , 28248. , 19699. , 18420. , 15985. ,  7898. , 13950. ,\n",
              "       18399. ,  6529. ,  8921. ,  5348. ,  7995. , 13495. ,  7898. ,\n",
              "       13950. ,  9549. , 13499. ,  7689. ,  9549. , 10795. ,  7299. ,\n",
              "        9258. , 17669. ,  6669. , 13415. , 15985. ,  8495. , 18399. ,\n",
              "       23875. ,  9895. , 23875. ])"
            ]
          },
          "metadata": {},
          "execution_count": 47
        }
      ]
    },
    {
      "cell_type": "code",
      "source": [
        "from sklearn.metrics import r2_score\n",
        "from sklearn import metrics"
      ],
      "metadata": {
        "id": "VIZiJkERViyE"
      },
      "execution_count": 51,
      "outputs": []
    },
    {
      "cell_type": "code",
      "source": [
        "score = r2_score(Y_test,predict)\n",
        "print(\"r_square score --> \",score)\n",
        "print('Mean Absolute Error -->', metrics.mean_absolute_error(Y_test, predict))\n",
        "print('Mean Squared Error -->', metrics.mean_squared_error(Y_test, predict))\n",
        "print('Root Mean Squared Error -->', np.sqrt(metrics.mean_squared_error(Y_test, predict)))"
      ],
      "metadata": {
        "colab": {
          "base_uri": "https://localhost:8080/"
        },
        "id": "O4zIN8kBUc3y",
        "outputId": "53420b99-05a2-4f93-86b3-1add3909fd10"
      },
      "execution_count": 52,
      "outputs": [
        {
          "output_type": "stream",
          "name": "stdout",
          "text": [
            "r_square score -->  0.739868079727191\n",
            "Mean Absolute Error --> 1944.6442307692307\n",
            "Mean Squared Error --> 7737752.225961538\n",
            "Root Mean Squared Error --> 2781.681546468168\n"
          ]
        }
      ]
    },
    {
      "cell_type": "code",
      "source": [
        "importance = regressor.feature_importances_\n",
        "# summarize feature importance\n",
        "for i,v in enumerate(importance):\n",
        "\tprint('Feature: %0d, Score: %.5f' % (i,v))"
      ],
      "metadata": {
        "colab": {
          "base_uri": "https://localhost:8080/"
        },
        "id": "ZpzDeqN0Vg6F",
        "outputId": "9bf92916-940a-4f70-ac21-07cf8f0a1c37"
      },
      "execution_count": 53,
      "outputs": [
        {
          "output_type": "stream",
          "name": "stdout",
          "text": [
            "Feature: 0, Score: 0.00080\n",
            "Feature: 1, Score: 0.00300\n",
            "Feature: 2, Score: 0.01101\n",
            "Feature: 3, Score: 0.00047\n",
            "Feature: 4, Score: 0.21049\n",
            "Feature: 5, Score: 0.71386\n",
            "Feature: 6, Score: 0.00004\n",
            "Feature: 7, Score: 0.01322\n",
            "Feature: 8, Score: 0.00004\n",
            "Feature: 9, Score: 0.01707\n",
            "Feature: 10, Score: 0.00617\n",
            "Feature: 11, Score: 0.00040\n",
            "Feature: 12, Score: 0.01784\n",
            "Feature: 13, Score: 0.00004\n",
            "Feature: 14, Score: 0.00002\n",
            "Feature: 15, Score: 0.00013\n",
            "Feature: 16, Score: 0.00000\n",
            "Feature: 17, Score: 0.00015\n",
            "Feature: 18, Score: 0.00000\n",
            "Feature: 19, Score: 0.00000\n",
            "Feature: 20, Score: 0.00000\n",
            "Feature: 21, Score: 0.00000\n",
            "Feature: 22, Score: 0.00000\n",
            "Feature: 23, Score: 0.00000\n",
            "Feature: 24, Score: 0.00090\n",
            "Feature: 25, Score: 0.00157\n",
            "Feature: 26, Score: 0.00018\n",
            "Feature: 27, Score: 0.00000\n",
            "Feature: 28, Score: 0.00094\n",
            "Feature: 29, Score: 0.00000\n",
            "Feature: 30, Score: 0.00000\n",
            "Feature: 31, Score: 0.00000\n",
            "Feature: 32, Score: 0.00001\n",
            "Feature: 33, Score: 0.00000\n",
            "Feature: 34, Score: 0.00000\n",
            "Feature: 35, Score: 0.00162\n",
            "Feature: 36, Score: 0.00000\n",
            "Feature: 37, Score: 0.00002\n",
            "Feature: 38, Score: 0.00000\n",
            "Feature: 39, Score: 0.00003\n",
            "Feature: 40, Score: 0.00000\n",
            "Feature: 41, Score: 0.00000\n"
          ]
        }
      ]
    },
    {
      "cell_type": "code",
      "source": [],
      "metadata": {
        "id": "v5We9H27V5Ds"
      },
      "execution_count": null,
      "outputs": []
    }
  ]
}